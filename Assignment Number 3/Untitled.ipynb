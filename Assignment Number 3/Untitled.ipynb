{
 "cells": [
  {
   "cell_type": "code",
   "execution_count": 4,
   "metadata": {},
   "outputs": [],
   "source": [
    "import seaborn as sns\n",
    "import matplotlib.pyplot as plt\n",
    "import numpy as np\n",
    "import math as m\n",
    "from collections import OrderedDict\n",
    "%matplotlib inline\n",
    "\n",
    "size = 500"
   ]
  },
  {
   "cell_type": "code",
   "execution_count": 5,
   "metadata": {},
   "outputs": [],
   "source": [
    "def readfile(filename , cal) :\n",
    "    # cal specifies whether to calculate min max mean variance and histogram\n",
    "    data = []\n",
    "    i = 0\n",
    "    sum = 0\n",
    "    hist = {}\n",
    "    orion = np.zeros((size , size) , dtype = np.float64)\n",
    "    with open(filename , 'r') as f :\n",
    "        fdata = f.read()\n",
    "    \n",
    "    fdata = fdata.replace('\"' , \"\").split(\"\\n\")\n",
    "    \n",
    "    # So now we have entire file data in fdata. Now we split the file data at \\n\n",
    "    # fdata contains 500 rows with each row as a string consisting of 500 values\n",
    "    for i in range(len(fdata) - 1) :\n",
    "        data = fdata[i].split(\",\")\n",
    "        for j in range(len(data)) :\n",
    "            orion[i][j] = float(data[j])\n",
    "            \n",
    "            # To calculate the mean without using library\n",
    "            sum = sum + orion[i][j]\n",
    "            if orion[i][j] in hist.keys() :\n",
    "                hist[orion[i][j]] += 1\n",
    "            else :\n",
    "                hist[orion[i][j]] = 1\n",
    "    \n",
    "    orion = np.flip(orion , axis = 1)  # horizontal flip\n",
    "    # orion = np.flip(orion , axis = 0)  # Vertically  flip\n",
    "    if cal == True :\n",
    "        return orion.reshape(((size * size) ,))  , orion.min() , orion.max() , hist , sum\n",
    "    else :\n",
    "        return orion.reshape(((size * size) ,)) , hist"
   ]
  },
  {
   "cell_type": "code",
   "execution_count": 6,
   "metadata": {},
   "outputs": [],
   "source": [
    "band2 , min2 , max2 , hist2 , sum = readfile('i170b2h0_t0.txt', True)"
   ]
  },
  {
   "cell_type": "code",
   "execution_count": 12,
   "metadata": {},
   "outputs": [
    {
     "data": {
      "text/plain": [
       "<matplotlib.axes._subplots.AxesSubplot at 0x28f98cb8>"
      ]
     },
     "execution_count": 12,
     "metadata": {},
     "output_type": "execute_result"
    },
    {
     "data": {
      "image/png": "[encoded data removed]",
      "text/plain": [
       "<Figure size 432x288 with 1 Axes>"
      ]
     },
     "metadata": {
      "needs_background": "light"
     },
     "output_type": "display_data"
    }
   ],
   "source": [
    "#sns.distplot(band2, rug= True , kde= True)\n",
    "sns.kdeplot(band2)"
   ]
  },
  {
   "cell_type": "code",
   "execution_count": null,
   "metadata": {},
   "outputs": [],
   "source": []
  }
 ],
 "metadata": {
  "kernelspec": {
   "display_name": "Python 3",
   "language": "python",
   "name": "python3"
  },
  "language_info": {
   "codemirror_mode": {
    "name": "ipython",
    "version": 3
   },
   "file_extension": ".py",
   "mimetype": "text/x-python",
   "name": "python",
   "nbconvert_exporter": "python",
   "pygments_lexer": "ipython3",
   "version": "3.8.0"
  },
  "toc": {
   "base_numbering": 1,
   "nav_menu": {},
   "number_sections": true,
   "sideBar": true,
   "skip_h1_title": false,
   "title_cell": "Table of Contents",
   "title_sidebar": "Contents",
   "toc_cell": false,
   "toc_position": {},
   "toc_section_display": true,
   "toc_window_display": false
  }
 },
 "nbformat": 4,
 "nbformat_minor": 4
}
