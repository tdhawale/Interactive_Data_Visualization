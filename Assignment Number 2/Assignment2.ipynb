{
 "cells": [
  {
   "cell_type": "markdown",
   "metadata": {},
   "source": [
    "# CT data Visualization"
   ]
  },
  {
   "cell_type": "code",
   "execution_count": 13,
   "metadata": {},
   "outputs": [
    {
     "data": {
      "text/html": [
       "        <script type=\"text/javascript\">\n",
       "        window.PlotlyConfig = {MathJaxConfig: 'local'};\n",
       "        if (window.MathJax) {MathJax.Hub.Config({SVG: {font: \"STIX-Web\"}});}\n",
       "        if (typeof require !== 'undefined') {\n",
       "        require.undef(\"plotly\");\n",
       "        requirejs.config({\n",
       "            paths: {\n",
       "                'plotly': ['https://cdn.plot.ly/plotly-latest.min']\n",
       "            }\n",
       "        });\n",
       "        require(['plotly'], function(Plotly) {\n",
       "            window._Plotly = Plotly;\n",
       "        });\n",
       "        }\n",
       "        </script>\n",
       "        "
      ]
     },
     "metadata": {},
     "output_type": "display_data"
    },
    {
     "data": {
      "text/html": [
       "        <script type=\"text/javascript\">\n",
       "        window.PlotlyConfig = {MathJaxConfig: 'local'};\n",
       "        if (window.MathJax) {MathJax.Hub.Config({SVG: {font: \"STIX-Web\"}});}\n",
       "        if (typeof require !== 'undefined') {\n",
       "        require.undef(\"plotly\");\n",
       "        requirejs.config({\n",
       "            paths: {\n",
       "                'plotly': ['https://cdn.plot.ly/plotly-latest.min']\n",
       "            }\n",
       "        });\n",
       "        require(['plotly'], function(Plotly) {\n",
       "            window._Plotly = Plotly;\n",
       "        });\n",
       "        }\n",
       "        </script>\n",
       "        "
      ]
     },
     "metadata": {},
     "output_type": "display_data"
    }
   ],
   "source": [
    "import numpy as np \n",
    "import pandas as pd\n",
    "import matplotlib.pyplot as plt\n",
    "import matplotlib.gridspec as gridspec\n",
    "import matplotlib.patches as pat\n",
    "import matplotlib.colors as colors\n",
    "import matplotlib.cm as cmx\n",
    "import matplotlib as mpl\n",
    "import seaborn as sns\n",
    "\n",
    "import cufflinks as cf\n",
    "from plotly.offline import download_plotlyjs\n",
    "from plotly.offline import init_notebook_mode\n",
    "from plotly.offline import plot , iplot\n",
    "#  To use plotly we need to initate it for each notebook\n",
    "init_notebook_mode(connected=True)\n",
    "# To use cufflinks as offline we call the below function\n",
    "cf.go_offline()\n",
    "\n",
    "%matplotlib inline"
   ]
  },
  {
   "cell_type": "code",
   "execution_count": 14,
   "metadata": {},
   "outputs": [],
   "source": [
    "ct = []\n",
    "with open('slice150.raw', 'rb') as f:\n",
    "    while True:\n",
    "        data = f.read(2)\n",
    "        if not data:\n",
    "            break\n",
    "        #img = np.append(img,data)\n",
    "        ct.append(int.from_bytes(data, byteorder='little'))\n",
    "        \n",
    "# Converting the data set into an array        \n",
    "img1 = pd.DataFrame(np.asanyarray(ct).reshape(512,512))\n",
    "img = np.asanyarray(ct).reshape(512,512)"
   ]
  },
  {
   "cell_type": "code",
   "execution_count": 15,
   "metadata": {},
   "outputs": [
    {
     "data": {
      "text/plain": [
       "<matplotlib.axes._subplots.AxesSubplot at 0x15c70fd0>"
      ]
     },
     "execution_count": 15,
     "metadata": {},
     "output_type": "execute_result"
    },
    {
     "data": {
      "image/png": "[encoded data removed]",
      "text/plain": [
       "<Figure size 432x288 with 1 Axes>"
      ]
     },
     "metadata": {
      "needs_background": "light"
     },
     "output_type": "display_data"
    }
   ],
   "source": [
    "sns.distplot(img, kde=True, rug=False, hist=False)"
   ]
  },
  {
   "cell_type": "code",
   "execution_count": 18,
   "metadata": {},
   "outputs": [],
   "source": [
    "u,c = np.unique(img,return_counts=True)"
   ]
  },
  {
   "cell_type": "code",
   "execution_count": 28,
   "metadata": {},
   "outputs": [
    {
     "data": {
      "text/plain": [
       "[<matplotlib.lines.Line2D at 0x1a04d1c0>]"
      ]
     },
     "execution_count": 28,
     "metadata": {},
     "output_type": "execute_result"
    },
    {
     "data": {
      "image/png": "[encoded data removed]",
      "text/plain": [
       "<Figure size 432x288 with 1 Axes>"
      ]
     },
     "metadata": {
      "needs_background": "light"
     },
     "output_type": "display_data"
    }
   ],
   "source": [
    "plt.plot(u,c)"
   ]
  },
  {
   "cell_type": "code",
   "execution_count": null,
   "metadata": {},
   "outputs": [],
   "source": []
  },
  {
   "cell_type": "code",
   "execution_count": 20,
   "metadata": {},
   "outputs": [
    {
     "data": {
      "text/plain": [
       "array([   0,    1,    2, ..., 2079, 2102, 2123])"
      ]
     },
     "execution_count": 20,
     "metadata": {},
     "output_type": "execute_result"
    }
   ],
   "source": [
    "u"
   ]
  },
  {
   "cell_type": "code",
   "execution_count": 21,
   "metadata": {},
   "outputs": [
    {
     "data": {
      "text/plain": [
       "array([280,  79,  65, ...,   1,   1,   1])"
      ]
     },
     "execution_count": 21,
     "metadata": {},
     "output_type": "execute_result"
    }
   ],
   "source": [
    "c"
   ]
  },
  {
   "cell_type": "code",
   "execution_count": null,
   "metadata": {},
   "outputs": [],
   "source": []
  },
  {
   "cell_type": "code",
   "execution_count": 19,
   "metadata": {},
   "outputs": [
    {
     "data": {
      "text/plain": [
       "[<matplotlib.lines.Line2D at 0x1724d8c8>]"
      ]
     },
     "execution_count": 19,
     "metadata": {},
     "output_type": "execute_result"
    },
    {
     "data": {
      "image/png": "[encoded data removed]",
      "text/plain": [
       "<Figure size 432x288 with 1 Axes>"
      ]
     },
     "metadata": {
      "needs_background": "light"
     },
     "output_type": "display_data"
    }
   ],
   "source": [
    "plt.plot(u,c)"
   ]
  },
  {
   "cell_type": "code",
   "execution_count": 11,
   "metadata": {},
   "outputs": [
    {
     "data": {
      "text/plain": [
       "(1924, 1924)"
      ]
     },
     "execution_count": 11,
     "metadata": {},
     "output_type": "execute_result"
    }
   ],
   "source": [
    "len(u) , len(c)"
   ]
  },
  {
   "cell_type": "code",
   "execution_count": 17,
   "metadata": {},
   "outputs": [
    {
     "ename": "AttributeError",
     "evalue": "module 'matplotlib.pyplot' has no attribute 'lineplot'",
     "output_type": "error",
     "traceback": [
      "\u001b[1;31m---------------------------------------------------------------------------\u001b[0m",
      "\u001b[1;31mAttributeError\u001b[0m                            Traceback (most recent call last)",
      "\u001b[1;32m<ipython-input-17-206df7d44a65>\u001b[0m in \u001b[0;36m<module>\u001b[1;34m\u001b[0m\n\u001b[1;32m----> 1\u001b[1;33m \u001b[0mplt\u001b[0m\u001b[1;33m.\u001b[0m\u001b[0mlineplot\u001b[0m\u001b[1;33m(\u001b[0m\u001b[0mu\u001b[0m\u001b[1;33m,\u001b[0m\u001b[0mc\u001b[0m\u001b[1;33m)\u001b[0m\u001b[1;33m\u001b[0m\u001b[1;33m\u001b[0m\u001b[0m\n\u001b[0m",
      "\u001b[1;31mAttributeError\u001b[0m: module 'matplotlib.pyplot' has no attribute 'lineplot'"
     ]
    }
   ],
   "source": [
    "plt.lineplot(u,c)"
   ]
  },
  {
   "cell_type": "code",
   "execution_count": 27,
   "metadata": {},
   "outputs": [],
   "source": [
    "ct = []\n",
    "sum = 0\n",
    "val_min = 0\n",
    "val_max = 0\n",
    "hist = {}\n",
    "with open('slice150.raw' , 'rb') as f :\n",
    "    while True :\n",
    "        data = f.read(2)\n",
    "        if not data :\n",
    "            break\n",
    "        val = int.from_bytes(data , byteorder='little')\n",
    "        ct.append(val)\n",
    "        # Calculating the sum to determine mean\n",
    "        sum = sum + val\n",
    "        # Calculating the minimum value in the data set without using built function\n",
    "        if val < val_min:\n",
    "            val_min = val\n",
    "        # Calculating the maximum value in the data set without using built function\n",
    "        if val > val_max:\n",
    "            val_max = val\n",
    "        if val in hist.keys():\n",
    "            hist[val] += 1\n",
    "        else :\n",
    "            hist[val] = 1\n",
    "\n",
    "#Converting the data set into an array\n",
    "# img = pd.DataFrame(np.asanyarray(ct).reshape(512 , 512))\n",
    "img = np.asanyarray(ct).reshape(512 , 512)"
   ]
  },
  {
   "cell_type": "code",
   "execution_count": 32,
   "metadata": {},
   "outputs": [
    {
     "data": {
      "text/plain": [
       "OrderedDict([(0, 280),\n",
       "             (1, 79),\n",
       "             (2, 65),\n",
       "             (3, 80),\n",
       "             (4, 100),\n",
       "             (5, 92),\n",
       "             (6, 104),\n",
       "             (7, 88),\n",
       "             (8, 92),\n",
       "             (9, 91),\n",
       "             (10, 106),\n",
       "             (11, 132),\n",
       "             (12, 104),\n",
       "             (13, 102),\n",
       "             (14, 92),\n",
       "             (15, 94),\n",
       "             (16, 88),\n",
       "             (17, 91),\n",
       "             (18, 108),\n",
       "             (19, 82),\n",
       "             (20, 109),\n",
       "             (21, 101),\n",
       "             (22, 94),\n",
       "             (23, 121),\n",
       "             (24, 98),\n",
       "             (25, 99),\n",
       "             (26, 95),\n",
       "             (27, 86),\n",
       "             (28, 96),\n",
       "             (29, 122),\n",
       "             (30, 102),\n",
       "             (31, 90),\n",
       "             (32, 89),\n",
       "             (33, 86),\n",
       "             (34, 116),\n",
       "             (35, 118),\n",
       "             (36, 100),\n",
       "             (37, 100),\n",
       "             (38, 101),\n",
       "             (39, 98),\n",
       "             (40, 99),\n",
       "             (41, 106),\n",
       "             (42, 100),\n",
       "             (43, 95),\n",
       "             (44, 91),\n",
       "             (45, 86),\n",
       "             (46, 99),\n",
       "             (47, 92),\n",
       "             (48, 105),\n",
       "             (49, 90),\n",
       "             (50, 82),\n",
       "             (51, 86),\n",
       "             (52, 103),\n",
       "             (53, 93),\n",
       "             (54, 78),\n",
       "             (55, 88),\n",
       "             (56, 97),\n",
       "             (57, 92),\n",
       "             (58, 89),\n",
       "             (59, 68),\n",
       "             (60, 92),\n",
       "             (61, 74),\n",
       "             (62, 65),\n",
       "             (63, 90),\n",
       "             (64, 65),\n",
       "             (65, 73),\n",
       "             (66, 66),\n",
       "             (67, 81),\n",
       "             (68, 83),\n",
       "             (69, 70),\n",
       "             (70, 76),\n",
       "             (71, 64),\n",
       "             (72, 63),\n",
       "             (73, 60),\n",
       "             (74, 63),\n",
       "             (75, 60),\n",
       "             (76, 66),\n",
       "             (77, 57),\n",
       "             (78, 67),\n",
       "             (79, 62),\n",
       "             (80, 54),\n",
       "             (81, 66),\n",
       "             (82, 58),\n",
       "             (83, 58),\n",
       "             (84, 60),\n",
       "             (85, 63),\n",
       "             (86, 44),\n",
       "             (87, 54),\n",
       "             (88, 60),\n",
       "             (89, 44),\n",
       "             (90, 50),\n",
       "             (91, 37),\n",
       "             (92, 37),\n",
       "             (93, 57),\n",
       "             (94, 51),\n",
       "             (95, 50),\n",
       "             (96, 49),\n",
       "             (97, 39),\n",
       "             (98, 40),\n",
       "             (99, 38),\n",
       "             (100, 42),\n",
       "             (101, 47),\n",
       "             (102, 37),\n",
       "             (103, 46),\n",
       "             (104, 39),\n",
       "             (105, 47),\n",
       "             (106, 38),\n",
       "             (107, 48),\n",
       "             (108, 43),\n",
       "             (109, 55),\n",
       "             (110, 54),\n",
       "             (111, 44),\n",
       "             (112, 52),\n",
       "             (113, 62),\n",
       "             (114, 67),\n",
       "             (115, 50),\n",
       "             (116, 44),\n",
       "             (117, 41),\n",
       "             (118, 42),\n",
       "             (119, 56),\n",
       "             (120, 53),\n",
       "             (121, 56),\n",
       "             (122, 52),\n",
       "             (123, 63),\n",
       "             (124, 50),\n",
       "             (125, 56),\n",
       "             (126, 72),\n",
       "             (127, 60),\n",
       "             (128, 60),\n",
       "             (129, 72),\n",
       "             (130, 78),\n",
       "             (131, 69),\n",
       "             (132, 74),\n",
       "             (133, 67),\n",
       "             (134, 69),\n",
       "             (135, 74),\n",
       "             (136, 72),\n",
       "             (137, 82),\n",
       "             (138, 96),\n",
       "             (139, 85),\n",
       "             (140, 100),\n",
       "             (141, 102),\n",
       "             (142, 87),\n",
       "             (143, 87),\n",
       "             (144, 96),\n",
       "             (145, 93),\n",
       "             (146, 109),\n",
       "             (147, 108),\n",
       "             (148, 93),\n",
       "             (149, 84),\n",
       "             (150, 111),\n",
       "             (151, 104),\n",
       "             (152, 124),\n",
       "             (153, 128),\n",
       "             (154, 111),\n",
       "             (155, 135),\n",
       "             (156, 117),\n",
       "             (157, 128),\n",
       "             (158, 121),\n",
       "             (159, 102),\n",
       "             (160, 128),\n",
       "             (161, 144),\n",
       "             (162, 144),\n",
       "             (163, 133),\n",
       "             (164, 130),\n",
       "             (165, 128),\n",
       "             (166, 133),\n",
       "             (167, 131),\n",
       "             (168, 113),\n",
       "             (169, 134),\n",
       "             (170, 141),\n",
       "             (171, 116),\n",
       "             (172, 124),\n",
       "             (173, 112),\n",
       "             (174, 140),\n",
       "             (175, 138),\n",
       "             (176, 137),\n",
       "             (177, 137),\n",
       "             (178, 116),\n",
       "             (179, 130),\n",
       "             (180, 120),\n",
       "             (181, 134),\n",
       "             (182, 105),\n",
       "             (183, 126),\n",
       "             (184, 135),\n",
       "             (185, 107),\n",
       "             (186, 130),\n",
       "             (187, 122),\n",
       "             (188, 115),\n",
       "             (189, 132),\n",
       "             (190, 124),\n",
       "             (191, 126),\n",
       "             (192, 119),\n",
       "             (193, 124),\n",
       "             (194, 117),\n",
       "             (195, 126),\n",
       "             (196, 100),\n",
       "             (197, 127),\n",
       "             (198, 135),\n",
       "             (199, 122),\n",
       "             (200, 133),\n",
       "             (201, 127),\n",
       "             (202, 139),\n",
       "             (203, 122),\n",
       "             (204, 107),\n",
       "             (205, 106),\n",
       "             (206, 144),\n",
       "             (207, 110),\n",
       "             (208, 124),\n",
       "             (209, 118),\n",
       "             (210, 123),\n",
       "             (211, 102),\n",
       "             (212, 136),\n",
       "             (213, 131),\n",
       "             (214, 133),\n",
       "             (215, 130),\n",
       "             (216, 124),\n",
       "             (217, 92),\n",
       "             (218, 103),\n",
       "             (219, 106),\n",
       "             (220, 121),\n",
       "             (221, 108),\n",
       "             (222, 117),\n",
       "             (223, 102),\n",
       "             (224, 101),\n",
       "             (225, 92),\n",
       "             (226, 102),\n",
       "             (227, 103),\n",
       "             (228, 112),\n",
       "             (229, 125),\n",
       "             (230, 98),\n",
       "             (231, 113),\n",
       "             (232, 126),\n",
       "             (233, 116),\n",
       "             (234, 95),\n",
       "             (235, 118),\n",
       "             (236, 89),\n",
       "             (237, 94),\n",
       "             (238, 95),\n",
       "             (239, 107),\n",
       "             (240, 99),\n",
       "             (241, 98),\n",
       "             (242, 115),\n",
       "             (243, 100),\n",
       "             (244, 107),\n",
       "             (245, 116),\n",
       "             (246, 83),\n",
       "             (247, 122),\n",
       "             (248, 104),\n",
       "             (249, 103),\n",
       "             (250, 98),\n",
       "             (251, 103),\n",
       "             (252, 100),\n",
       "             (253, 94),\n",
       "             (254, 111),\n",
       "             (255, 99),\n",
       "             (256, 89),\n",
       "             (257, 100),\n",
       "             (258, 101),\n",
       "             (259, 106),\n",
       "             (260, 98),\n",
       "             (261, 103),\n",
       "             (262, 98),\n",
       "             (263, 82),\n",
       "             (264, 112),\n",
       "             (265, 107),\n",
       "             (266, 111),\n",
       "             (267, 97),\n",
       "             (268, 101),\n",
       "             (269, 130),\n",
       "             (270, 102),\n",
       "             (271, 112),\n",
       "             (272, 89),\n",
       "             (273, 99),\n",
       "             (274, 114),\n",
       "             (275, 92),\n",
       "             (276, 121),\n",
       "             (277, 98),\n",
       "             (278, 104),\n",
       "             (279, 109),\n",
       "             (280, 101),\n",
       "             (281, 87),\n",
       "             (282, 86),\n",
       "             (283, 80),\n",
       "             (284, 96),\n",
       "             (285, 123),\n",
       "             (286, 99),\n",
       "             (287, 114),\n",
       "             (288, 117),\n",
       "             (289, 82),\n",
       "             (290, 97),\n",
       "             (291, 109),\n",
       "             (292, 102),\n",
       "             (293, 108),\n",
       "             (294, 91),\n",
       "             (295, 122),\n",
       "             (296, 111),\n",
       "             (297, 97),\n",
       "             (298, 107),\n",
       "             (299, 108),\n",
       "             (300, 90),\n",
       "             (301, 81),\n",
       "             (302, 96),\n",
       "             (303, 89),\n",
       "             (304, 88),\n",
       "             (305, 109),\n",
       "             (306, 98),\n",
       "             (307, 96),\n",
       "             (308, 88),\n",
       "             (309, 88),\n",
       "             (310, 111),\n",
       "             (311, 97),\n",
       "             (312, 100),\n",
       "             (313, 88),\n",
       "             (314, 93),\n",
       "             (315, 96),\n",
       "             (316, 93),\n",
       "             (317, 76),\n",
       "             (318, 101),\n",
       "             (319, 110),\n",
       "             (320, 98),\n",
       "             (321, 101),\n",
       "             (322, 111),\n",
       "             (323, 104),\n",
       "             (324, 103),\n",
       "             (325, 91),\n",
       "             (326, 82),\n",
       "             (327, 81),\n",
       "             (328, 90),\n",
       "             (329, 87),\n",
       "             (330, 93),\n",
       "             (331, 100),\n",
       "             (332, 87),\n",
       "             (333, 70),\n",
       "             (334, 78),\n",
       "             (335, 90),\n",
       "             (336, 85),\n",
       "             (337, 89),\n",
       "             (338, 87),\n",
       "             (339, 97),\n",
       "             (340, 87),\n",
       "             (341, 81),\n",
       "             (342, 87),\n",
       "             (343, 70),\n",
       "             (344, 85),\n",
       "             (345, 86),\n",
       "             (346, 84),\n",
       "             (347, 101),\n",
       "             (348, 92),\n",
       "             (349, 86),\n",
       "             (350, 78),\n",
       "             (351, 76),\n",
       "             (352, 88),\n",
       "             (353, 91),\n",
       "             (354, 103),\n",
       "             (355, 73),\n",
       "             (356, 99),\n",
       "             (357, 96),\n",
       "             (358, 81),\n",
       "             (359, 80),\n",
       "             (360, 76),\n",
       "             (361, 70),\n",
       "             (362, 88),\n",
       "             (363, 88),\n",
       "             (364, 85),\n",
       "             (365, 70),\n",
       "             (366, 85),\n",
       "             (367, 65),\n",
       "             (368, 69),\n",
       "             (369, 80),\n",
       "             (370, 62),\n",
       "             (371, 76),\n",
       "             (372, 77),\n",
       "             (373, 68),\n",
       "             (374, 73),\n",
       "             (375, 58),\n",
       "             (376, 68),\n",
       "             (377, 78),\n",
       "             (378, 71),\n",
       "             (379, 71),\n",
       "             (380, 70),\n",
       "             (381, 65),\n",
       "             (382, 61),\n",
       "             (383, 72),\n",
       "             (384, 63),\n",
       "             (385, 67),\n",
       "             (386, 71),\n",
       "             (387, 65),\n",
       "             (388, 76),\n",
       "             (389, 76),\n",
       "             (390, 77),\n",
       "             (391, 69),\n",
       "             (392, 67),\n",
       "             (393, 82),\n",
       "             (394, 66),\n",
       "             (395, 74),\n",
       "             (396, 61),\n",
       "             (397, 64),\n",
       "             (398, 79),\n",
       "             (399, 66),\n",
       "             (400, 59),\n",
       "             (401, 59),\n",
       "             (402, 67),\n",
       "             (403, 53),\n",
       "             (404, 70),\n",
       "             (405, 63),\n",
       "             (406, 84),\n",
       "             (407, 61),\n",
       "             (408, 60),\n",
       "             (409, 69),\n",
       "             (410, 75),\n",
       "             (411, 60),\n",
       "             (412, 61),\n",
       "             (413, 62),\n",
       "             (414, 70),\n",
       "             (415, 68),\n",
       "             (416, 57),\n",
       "             (417, 57),\n",
       "             (418, 69),\n",
       "             (419, 54),\n",
       "             (420, 66),\n",
       "             (421, 66),\n",
       "             (422, 64),\n",
       "             (423, 65),\n",
       "             (424, 62),\n",
       "             (425, 66),\n",
       "             (426, 65),\n",
       "             (427, 62),\n",
       "             (428, 62),\n",
       "             (429, 47),\n",
       "             (430, 68),\n",
       "             (431, 40),\n",
       "             (432, 53),\n",
       "             (433, 50),\n",
       "             (434, 56),\n",
       "             (435, 55),\n",
       "             (436, 52),\n",
       "             (437, 53),\n",
       "             (438, 49),\n",
       "             (439, 63),\n",
       "             (440, 58),\n",
       "             (441, 51),\n",
       "             (442, 63),\n",
       "             (443, 69),\n",
       "             (444, 60),\n",
       "             (445, 62),\n",
       "             (446, 60),\n",
       "             (447, 54),\n",
       "             (448, 60),\n",
       "             (449, 58),\n",
       "             (450, 50),\n",
       "             (451, 61),\n",
       "             (452, 59),\n",
       "             (453, 44),\n",
       "             (454, 48),\n",
       "             (455, 66),\n",
       "             (456, 48),\n",
       "             (457, 44),\n",
       "             (458, 47),\n",
       "             (459, 60),\n",
       "             (460, 46),\n",
       "             (461, 48),\n",
       "             (462, 69),\n",
       "             (463, 54),\n",
       "             (464, 44),\n",
       "             (465, 61),\n",
       "             (466, 48),\n",
       "             (467, 47),\n",
       "             (468, 61),\n",
       "             (469, 52),\n",
       "             (470, 48),\n",
       "             (471, 48),\n",
       "             (472, 59),\n",
       "             (473, 50),\n",
       "             (474, 55),\n",
       "             (475, 51),\n",
       "             (476, 40),\n",
       "             (477, 66),\n",
       "             (478, 52),\n",
       "             (479, 52),\n",
       "             (480, 54),\n",
       "             (481, 52),\n",
       "             (482, 47),\n",
       "             (483, 50),\n",
       "             (484, 44),\n",
       "             (485, 50),\n",
       "             (486, 67),\n",
       "             (487, 55),\n",
       "             (488, 48),\n",
       "             (489, 60),\n",
       "             (490, 45),\n",
       "             (491, 62),\n",
       "             (492, 63),\n",
       "             (493, 52),\n",
       "             (494, 55),\n",
       "             (495, 56),\n",
       "             (496, 51),\n",
       "             (497, 47),\n",
       "             (498, 45),\n",
       "             (499, 54),\n",
       "             (500, 43),\n",
       "             (501, 58),\n",
       "             (502, 51),\n",
       "             (503, 45),\n",
       "             (504, 57),\n",
       "             (505, 56),\n",
       "             (506, 56),\n",
       "             (507, 41),\n",
       "             (508, 53),\n",
       "             (509, 49),\n",
       "             (510, 47),\n",
       "             (511, 48),\n",
       "             (512, 41),\n",
       "             (513, 48),\n",
       "             (514, 55),\n",
       "             (515, 63),\n",
       "             (516, 55),\n",
       "             (517, 59),\n",
       "             (518, 60),\n",
       "             (519, 60),\n",
       "             (520, 50),\n",
       "             (521, 56),\n",
       "             (522, 60),\n",
       "             (523, 50),\n",
       "             (524, 62),\n",
       "             (525, 50),\n",
       "             (526, 54),\n",
       "             (527, 46),\n",
       "             (528, 52),\n",
       "             (529, 58),\n",
       "             (530, 41),\n",
       "             (531, 60),\n",
       "             (532, 56),\n",
       "             (533, 50),\n",
       "             (534, 56),\n",
       "             (535, 46),\n",
       "             (536, 57),\n",
       "             (537, 50),\n",
       "             (538, 45),\n",
       "             (539, 61),\n",
       "             (540, 54),\n",
       "             (541, 42),\n",
       "             (542, 35),\n",
       "             (543, 56),\n",
       "             (544, 54),\n",
       "             (545, 53),\n",
       "             (546, 47),\n",
       "             (547, 59),\n",
       "             (548, 49),\n",
       "             (549, 47),\n",
       "             (550, 40),\n",
       "             (551, 45),\n",
       "             (552, 38),\n",
       "             (553, 55),\n",
       "             (554, 55),\n",
       "             (555, 53),\n",
       "             (556, 52),\n",
       "             (557, 46),\n",
       "             (558, 34),\n",
       "             (559, 52),\n",
       "             (560, 49),\n",
       "             (561, 59),\n",
       "             (562, 42),\n",
       "             (563, 61),\n",
       "             (564, 39),\n",
       "             (565, 39),\n",
       "             (566, 45),\n",
       "             (567, 47),\n",
       "             (568, 49),\n",
       "             (569, 55),\n",
       "             (570, 54),\n",
       "             (571, 58),\n",
       "             (572, 44),\n",
       "             (573, 48),\n",
       "             (574, 59),\n",
       "             (575, 49),\n",
       "             (576, 60),\n",
       "             (577, 51),\n",
       "             (578, 62),\n",
       "             (579, 40),\n",
       "             (580, 56),\n",
       "             (581, 43),\n",
       "             (582, 52),\n",
       "             (583, 59),\n",
       "             (584, 41),\n",
       "             (585, 51),\n",
       "             (586, 46),\n",
       "             (587, 56),\n",
       "             (588, 49),\n",
       "             (589, 54),\n",
       "             (590, 42),\n",
       "             (591, 52),\n",
       "             (592, 52),\n",
       "             (593, 42),\n",
       "             (594, 52),\n",
       "             (595, 45),\n",
       "             (596, 35),\n",
       "             (597, 42),\n",
       "             (598, 47),\n",
       "             (599, 47),\n",
       "             (600, 41),\n",
       "             (601, 45),\n",
       "             (602, 50),\n",
       "             (603, 44),\n",
       "             (604, 31),\n",
       "             (605, 46),\n",
       "             (606, 53),\n",
       "             (607, 42),\n",
       "             (608, 48),\n",
       "             (609, 55),\n",
       "             (610, 42),\n",
       "             (611, 39),\n",
       "             (612, 45),\n",
       "             (613, 50),\n",
       "             (614, 41),\n",
       "             (615, 41),\n",
       "             (616, 57),\n",
       "             (617, 60),\n",
       "             (618, 46),\n",
       "             (619, 50),\n",
       "             (620, 58),\n",
       "             (621, 54),\n",
       "             (622, 60),\n",
       "             (623, 51),\n",
       "             (624, 48),\n",
       "             (625, 51),\n",
       "             (626, 51),\n",
       "             (627, 54),\n",
       "             (628, 41),\n",
       "             (629, 63),\n",
       "             (630, 55),\n",
       "             (631, 48),\n",
       "             (632, 54),\n",
       "             (633, 45),\n",
       "             (634, 45),\n",
       "             (635, 57),\n",
       "             (636, 45),\n",
       "             (637, 41),\n",
       "             (638, 58),\n",
       "             (639, 62),\n",
       "             (640, 49),\n",
       "             (641, 52),\n",
       "             (642, 52),\n",
       "             (643, 49),\n",
       "             (644, 56),\n",
       "             (645, 48),\n",
       "             (646, 53),\n",
       "             (647, 60),\n",
       "             (648, 52),\n",
       "             (649, 55),\n",
       "             (650, 50),\n",
       "             (651, 38),\n",
       "             (652, 57),\n",
       "             (653, 67),\n",
       "             (654, 65),\n",
       "             (655, 39),\n",
       "             (656, 54),\n",
       "             (657, 37),\n",
       "             (658, 62),\n",
       "             (659, 54),\n",
       "             (660, 49),\n",
       "             (661, 52),\n",
       "             (662, 49),\n",
       "             (663, 50),\n",
       "             (664, 53),\n",
       "             (665, 41),\n",
       "             (666, 48),\n",
       "             (667, 47),\n",
       "             (668, 49),\n",
       "             (669, 49),\n",
       "             (670, 53),\n",
       "             (671, 67),\n",
       "             (672, 62),\n",
       "             (673, 50),\n",
       "             (674, 48),\n",
       "             (675, 54),\n",
       "             (676, 58),\n",
       "             (677, 44),\n",
       "             (678, 52),\n",
       "             (679, 43),\n",
       "             (680, 54),\n",
       "             (681, 45),\n",
       "             (682, 51),\n",
       "             (683, 50),\n",
       "             (684, 41),\n",
       "             (685, 57),\n",
       "             (686, 41),\n",
       "             (687, 61),\n",
       "             (688, 61),\n",
       "             (689, 42),\n",
       "             (690, 73),\n",
       "             (691, 43),\n",
       "             (692, 43),\n",
       "             (693, 38),\n",
       "             (694, 54),\n",
       "             (695, 50),\n",
       "             (696, 50),\n",
       "             (697, 63),\n",
       "             (698, 40),\n",
       "             (699, 65),\n",
       "             (700, 38),\n",
       "             (701, 45),\n",
       "             (702, 69),\n",
       "             (703, 46),\n",
       "             (704, 46),\n",
       "             (705, 45),\n",
       "             (706, 48),\n",
       "             (707, 48),\n",
       "             (708, 44),\n",
       "             (709, 43),\n",
       "             (710, 49),\n",
       "             (711, 54),\n",
       "             (712, 49),\n",
       "             (713, 48),\n",
       "             (714, 37),\n",
       "             (715, 44),\n",
       "             (716, 51),\n",
       "             (717, 46),\n",
       "             (718, 47),\n",
       "             (719, 47),\n",
       "             (720, 57),\n",
       "             (721, 43),\n",
       "             (722, 57),\n",
       "             (723, 53),\n",
       "             (724, 51),\n",
       "             (725, 44),\n",
       "             (726, 49),\n",
       "             (727, 42),\n",
       "             (728, 47),\n",
       "             (729, 47),\n",
       "             (730, 42),\n",
       "             (731, 38),\n",
       "             (732, 59),\n",
       "             (733, 48),\n",
       "             (734, 50),\n",
       "             (735, 51),\n",
       "             (736, 50),\n",
       "             (737, 43),\n",
       "             (738, 48),\n",
       "             (739, 48),\n",
       "             (740, 72),\n",
       "             (741, 57),\n",
       "             (742, 45),\n",
       "             (743, 42),\n",
       "             (744, 42),\n",
       "             (745, 35),\n",
       "             (746, 53),\n",
       "             (747, 46),\n",
       "             (748, 55),\n",
       "             (749, 44),\n",
       "             (750, 52),\n",
       "             (751, 51),\n",
       "             (752, 56),\n",
       "             (753, 44),\n",
       "             (754, 42),\n",
       "             (755, 44),\n",
       "             (756, 53),\n",
       "             (757, 35),\n",
       "             (758, 50),\n",
       "             (759, 48),\n",
       "             (760, 67),\n",
       "             (761, 50),\n",
       "             (762, 44),\n",
       "             (763, 40),\n",
       "             (764, 49),\n",
       "             (765, 58),\n",
       "             (766, 51),\n",
       "             (767, 44),\n",
       "             (768, 52),\n",
       "             (769, 50),\n",
       "             (770, 42),\n",
       "             (771, 57),\n",
       "             (772, 53),\n",
       "             (773, 46),\n",
       "             (774, 52),\n",
       "             (775, 65),\n",
       "             (776, 49),\n",
       "             (777, 47),\n",
       "             (778, 49),\n",
       "             (779, 46),\n",
       "             (780, 46),\n",
       "             (781, 51),\n",
       "             (782, 46),\n",
       "             (783, 48),\n",
       "             (784, 42),\n",
       "             (785, 44),\n",
       "             (786, 54),\n",
       "             (787, 53),\n",
       "             (788, 45),\n",
       "             (789, 41),\n",
       "             (790, 55),\n",
       "             (791, 46),\n",
       "             (792, 54),\n",
       "             (793, 42),\n",
       "             (794, 54),\n",
       "             (795, 66),\n",
       "             (796, 47),\n",
       "             (797, 56),\n",
       "             (798, 49),\n",
       "             (799, 45),\n",
       "             (800, 47),\n",
       "             (801, 37),\n",
       "             (802, 67),\n",
       "             (803, 53),\n",
       "             (804, 54),\n",
       "             (805, 65),\n",
       "             (806, 44),\n",
       "             (807, 50),\n",
       "             (808, 52),\n",
       "             (809, 63),\n",
       "             (810, 51),\n",
       "             (811, 50),\n",
       "             (812, 50),\n",
       "             (813, 45),\n",
       "             (814, 64),\n",
       "             (815, 58),\n",
       "             (816, 56),\n",
       "             (817, 47),\n",
       "             (818, 39),\n",
       "             (819, 49),\n",
       "             (820, 42),\n",
       "             (821, 61),\n",
       "             (822, 53),\n",
       "             (823, 53),\n",
       "             (824, 52),\n",
       "             (825, 55),\n",
       "             (826, 39),\n",
       "             (827, 50),\n",
       "             (828, 61),\n",
       "             (829, 60),\n",
       "             (830, 71),\n",
       "             (831, 50),\n",
       "             (832, 66),\n",
       "             (833, 79),\n",
       "             (834, 63),\n",
       "             (835, 50),\n",
       "             (836, 72),\n",
       "             (837, 76),\n",
       "             (838, 58),\n",
       "             (839, 69),\n",
       "             (840, 86),\n",
       "             (841, 65),\n",
       "             (842, 67),\n",
       "             (843, 84),\n",
       "             (844, 77),\n",
       "             (845, 75),\n",
       "             (846, 79),\n",
       "             (847, 79),\n",
       "             (848, 77),\n",
       "             (849, 80),\n",
       "             (850, 92),\n",
       "             (851, 79),\n",
       "             (852, 99),\n",
       "             (853, 89),\n",
       "             (854, 77),\n",
       "             (855, 98),\n",
       "             (856, 96),\n",
       "             (857, 97),\n",
       "             (858, 97),\n",
       "             (859, 106),\n",
       "             (860, 101),\n",
       "             (861, 111),\n",
       "             (862, 117),\n",
       "             (863, 114),\n",
       "             (864, 116),\n",
       "             (865, 120),\n",
       "             (866, 114),\n",
       "             (867, 119),\n",
       "             (868, 126),\n",
       "             (869, 142),\n",
       "             (870, 122),\n",
       "             (871, 133),\n",
       "             (872, 164),\n",
       "             (873, 158),\n",
       "             (874, 178),\n",
       "             (875, 190),\n",
       "             (876, 199),\n",
       "             (877, 176),\n",
       "             (878, 214),\n",
       "             (879, 188),\n",
       "             (880, 179),\n",
       "             (881, 213),\n",
       "             (882, 201),\n",
       "             (883, 214),\n",
       "             (884, 205),\n",
       "             (885, 222),\n",
       "             (886, 218),\n",
       "             (887, 222),\n",
       "             (888, 243),\n",
       "             (889, 287),\n",
       "             (890, 285),\n",
       "             (891, 284),\n",
       "             (892, 270),\n",
       "             (893, 291),\n",
       "             (894, 291),\n",
       "             (895, 309),\n",
       "             (896, 325),\n",
       "             (897, 307),\n",
       "             (898, 339),\n",
       "             (899, 330),\n",
       "             (900, 366),\n",
       "             (901, 346),\n",
       "             (902, 374),\n",
       "             (903, 377),\n",
       "             (904, 358),\n",
       "             (905, 364),\n",
       "             (906, 363),\n",
       "             (907, 395),\n",
       "             (908, 392),\n",
       "             (909, 419),\n",
       "             (910, 422),\n",
       "             (911, 438),\n",
       "             (912, 443),\n",
       "             (913, 443),\n",
       "             (914, 455),\n",
       "             (915, 429),\n",
       "             (916, 436),\n",
       "             (917, 397),\n",
       "             (918, 458),\n",
       "             (919, 426),\n",
       "             (920, 467),\n",
       "             (921, 500),\n",
       "             (922, 476),\n",
       "             (923, 524),\n",
       "             (924, 494),\n",
       "             (925, 492),\n",
       "             (926, 482),\n",
       "             (927, 486),\n",
       "             (928, 501),\n",
       "             (929, 507),\n",
       "             (930, 523),\n",
       "             (931, 531),\n",
       "             (932, 503),\n",
       "             (933, 493),\n",
       "             (934, 513),\n",
       "             (935, 530),\n",
       "             (936, 509),\n",
       "             (937, 502),\n",
       "             (938, 460),\n",
       "             (939, 549),\n",
       "             (940, 485),\n",
       "             (941, 468),\n",
       "             (942, 494),\n",
       "             (943, 511),\n",
       "             (944, 513),\n",
       "             (945, 526),\n",
       "             (946, 508),\n",
       "             (947, 480),\n",
       "             (948, 489),\n",
       "             (949, 500),\n",
       "             (950, 520),\n",
       "             (951, 522),\n",
       "             (952, 443),\n",
       "             (953, 501),\n",
       "             (954, 502),\n",
       "             (955, 528),\n",
       "             (956, 432),\n",
       "             (957, 519),\n",
       "             (958, 442),\n",
       "             (959, 482),\n",
       "             (960, 464),\n",
       "             (961, 449),\n",
       "             (962, 473),\n",
       "             (963, 448),\n",
       "             (964, 513),\n",
       "             (965, 424),\n",
       "             (966, 417),\n",
       "             (967, 467),\n",
       "             (968, 469),\n",
       "             (969, 443),\n",
       "             (970, 449),\n",
       "             (971, 448),\n",
       "             (972, 426),\n",
       "             (973, 435),\n",
       "             (974, 439),\n",
       "             (975, 443),\n",
       "             (976, 463),\n",
       "             (977, 449),\n",
       "             (978, 470),\n",
       "             (979, 428),\n",
       "             (980, 426),\n",
       "             (981, 481),\n",
       "             (982, 451),\n",
       "             (983, 434),\n",
       "             (984, 431),\n",
       "             (985, 447),\n",
       "             (986, 427),\n",
       "             (987, 448),\n",
       "             (988, 475),\n",
       "             (989, 472),\n",
       "             (990, 459),\n",
       "             (991, 414),\n",
       "             (992, 440),\n",
       "             (993, 436),\n",
       "             (994, 447),\n",
       "             (995, 440),\n",
       "             (996, 415),\n",
       "             (997, 432),\n",
       "             (998, 447),\n",
       "             (999, 447),\n",
       "             ...])"
      ]
     },
     "execution_count": 32,
     "metadata": {},
     "output_type": "execute_result"
    }
   ],
   "source": [
    "from collections import OrderedDict \n",
    "hist1 = OrderedDict(sorted(hist.items()))\n",
    "hist1"
   ]
  },
  {
   "cell_type": "code",
   "execution_count": 33,
   "metadata": {},
   "outputs": [
    {
     "data": {
      "text/plain": [
       "[<matplotlib.lines.Line2D at 0x15ea89a0>]"
      ]
     },
     "execution_count": 33,
     "metadata": {},
     "output_type": "execute_result"
    },
    {
     "data": {
      "image/png": "[encoded data removed]",
      "text/plain": [
       "<Figure size 432x288 with 1 Axes>"
      ]
     },
     "metadata": {
      "needs_background": "light"
     },
     "output_type": "display_data"
    }
   ],
   "source": [
    "keys = np.array( np.fromiter(hist1.keys() , dtype = float))\n",
    "vals = np.array(np.fromiter(hist1.values() , dtype = float))\n",
    "plt.plot( keys, vals)\n"
   ]
  },
  {
   "cell_type": "code",
   "execution_count": null,
   "metadata": {},
   "outputs": [],
   "source": []
  },
  {
   "cell_type": "code",
   "execution_count": null,
   "metadata": {},
   "outputs": [],
   "source": []
  },
  {
   "cell_type": "code",
   "execution_count": null,
   "metadata": {},
   "outputs": [],
   "source": []
  },
  {
   "cell_type": "code",
   "execution_count": null,
   "metadata": {},
   "outputs": [],
   "source": []
  },
  {
   "cell_type": "code",
   "execution_count": null,
   "metadata": {},
   "outputs": [],
   "source": []
  },
  {
   "cell_type": "code",
   "execution_count": 12,
   "metadata": {},
   "outputs": [
    {
     "data": {
      "text/plain": [
       "array([[1069, 1085, 1103, ...,   17,    8,   20],\n",
       "       [1047, 1047, 1062, ...,    0,    4,   41],\n",
       "       [1035, 1022, 1028, ...,    0,   37,   87],\n",
       "       ...,\n",
       "       [ 969,  990, 1024, ...,   75,  101,   93],\n",
       "       [1010, 1021, 1028, ...,   37,   74,   79],\n",
       "       [1034, 1021, 1009, ...,   47,   81,   94]])"
      ]
     },
     "execution_count": 12,
     "metadata": {},
     "output_type": "execute_result"
    }
   ],
   "source": [
    "img"
   ]
  },
  {
   "cell_type": "code",
   "execution_count": 14,
   "metadata": {},
   "outputs": [
    {
     "data": {
      "text/plain": [
       "0      1135\n",
       "1      1122\n",
       "2      1116\n",
       "3      1116\n",
       "4      1120\n",
       "       ... \n",
       "507    1027\n",
       "508     996\n",
       "509     973\n",
       "510     970\n",
       "511     986\n",
       "Name: 256, Length: 512, dtype: int32"
      ]
     },
     "execution_count": 14,
     "metadata": {},
     "output_type": "execute_result"
    }
   ],
   "source": [
    "img1.iloc[256]"
   ]
  },
  {
   "cell_type": "code",
   "execution_count": 17,
   "metadata": {},
   "outputs": [
    {
     "data": {
      "text/plain": [
       "array([1135, 1122, 1116, 1116, 1120, 1115, 1108, 1086, 1075, 1079, 1092,\n",
       "       1100, 1089, 1058, 1028, 1039, 1077, 1106, 1101, 1071, 1040, 1006,\n",
       "        952,  892,  849,  821,  787,  733,  674,  629,  625,  655,  692,\n",
       "        722,  753,  798,  852,  883,  881,  869,  862,  875,  882,  875,\n",
       "        875,  874,  895,  919,  931,  924,  895,  876,  890,  927,  949,\n",
       "        943,  944,  950,  954,  933,  896,  870,  872,  894,  908,  938,\n",
       "        959,  948,  903,  891,  929,  981, 1018, 1044, 1088, 1136, 1163,\n",
       "       1147, 1105, 1073, 1082, 1124, 1161, 1181, 1166, 1156, 1151, 1126,\n",
       "       1105, 1104, 1120, 1139, 1166, 1180, 1195, 1231, 1270, 1269, 1233,\n",
       "       1199, 1184, 1168, 1158, 1163, 1180, 1189, 1193, 1198, 1205, 1218,\n",
       "       1230, 1202, 1113, 1038, 1038, 1108, 1162, 1165, 1135, 1104, 1110,\n",
       "       1157, 1188, 1162, 1114, 1087, 1073, 1063, 1082, 1139, 1171, 1158,\n",
       "       1131, 1122, 1138, 1156, 1175, 1163, 1145, 1149, 1170, 1195, 1197,\n",
       "       1191, 1186, 1174, 1124, 1069, 1048, 1073, 1099, 1120, 1172, 1249,\n",
       "       1282, 1264, 1229, 1201, 1172, 1127, 1083, 1074, 1096, 1139, 1210,\n",
       "       1248, 1226, 1197, 1217, 1254, 1258, 1232, 1243, 1291, 1314, 1290,\n",
       "       1255, 1241, 1222, 1200, 1215, 1241, 1244, 1231, 1233, 1244, 1242,\n",
       "       1238, 1265, 1300, 1307, 1296, 1293, 1290, 1271, 1243, 1240, 1284,\n",
       "       1343, 1373, 1332, 1268, 1243, 1265, 1291, 1307, 1312, 1308, 1301,\n",
       "       1283, 1277, 1305, 1363, 1394, 1381, 1335, 1259, 1190, 1188, 1246,\n",
       "       1318, 1371, 1385, 1351, 1303, 1275, 1266, 1264, 1259, 1257, 1286,\n",
       "       1329, 1333, 1306, 1292, 1278, 1254, 1251, 1279, 1305, 1301, 1271,\n",
       "       1243, 1251, 1295, 1341, 1346, 1325, 1302, 1277, 1245, 1221, 1215,\n",
       "       1222, 1235, 1238, 1231, 1229, 1232, 1210, 1176, 1183, 1243, 1302,\n",
       "       1319, 1287, 1243, 1225, 1229, 1241, 1267, 1304, 1318, 1298, 1280,\n",
       "       1263, 1223, 1192, 1224, 1296, 1329, 1301, 1265, 1241, 1220, 1214,\n",
       "       1221, 1230, 1240, 1257, 1263, 1255, 1257, 1283, 1325, 1357, 1332,\n",
       "       1265, 1216, 1213, 1218, 1207, 1209, 1244, 1280, 1281, 1266, 1256,\n",
       "       1253, 1245, 1221, 1207, 1243, 1318, 1361, 1345, 1320, 1310, 1298,\n",
       "       1285, 1280, 1280, 1269, 1236, 1200, 1187, 1208, 1261, 1308, 1297,\n",
       "       1251, 1239, 1275, 1307, 1313, 1313, 1312, 1301, 1299, 1312, 1314,\n",
       "       1286, 1248, 1232, 1255, 1301, 1349, 1358, 1336, 1302, 1259, 1209,\n",
       "       1188, 1219, 1271, 1295, 1286, 1275, 1289, 1297, 1267, 1241, 1277,\n",
       "       1343, 1357, 1322, 1280, 1241, 1185, 1155, 1172, 1209, 1225, 1218,\n",
       "       1212, 1220, 1242, 1244, 1216, 1180, 1167, 1188, 1224, 1204, 1131,\n",
       "       1088, 1098, 1125, 1127, 1111, 1095, 1087, 1086, 1090, 1109, 1113,\n",
       "       1090, 1062, 1045, 1034, 1029, 1012,  979,  954,  948,  955,  946,\n",
       "        930,  916,  895,  851,  810,  802,  776,  698,  575,  453,  359,\n",
       "        307,  298,  318,  352,  419,  551,  736,  930, 1082, 1164, 1163,\n",
       "       1051,  825,  562,  359,  234,  170,  157,  184,  198,  184,  189,\n",
       "        227,  276,  313,  328,  339,  394,  518,  688,  841,  929,  954,\n",
       "        947,  923,  893,  851,  828,  847,  892,  931,  950,  951,  960,\n",
       "        982, 1012, 1027, 1017,  992,  973,  966,  991, 1007, 1000,  998,\n",
       "       1011,  991,  941,  926,  956,  993, 1002,  989,  972,  966,  974,\n",
       "       1000, 1021, 1038, 1058, 1079, 1074, 1056, 1030, 1010, 1002, 1022,\n",
       "       1060, 1089, 1094, 1092, 1091, 1084, 1050, 1038, 1053, 1071, 1074,\n",
       "       1055, 1027,  996,  973,  970,  986])"
      ]
     },
     "execution_count": 17,
     "metadata": {},
     "output_type": "execute_result"
    }
   ],
   "source": [
    "img[256][:]"
   ]
  },
  {
   "cell_type": "code",
   "execution_count": null,
   "metadata": {},
   "outputs": [],
   "source": []
  },
  {
   "cell_type": "code",
   "execution_count": null,
   "metadata": {},
   "outputs": [],
   "source": [
    "sns.distplot()"
   ]
  },
  {
   "cell_type": "code",
   "execution_count": null,
   "metadata": {},
   "outputs": [],
   "source": []
  },
  {
   "cell_type": "markdown",
   "metadata": {},
   "source": [
    "Mean is: 949.9877662658691\n",
    "Variance: 134932.47904059364"
   ]
  },
  {
   "cell_type": "code",
   "execution_count": null,
   "metadata": {},
   "outputs": [],
   "source": []
  },
  {
   "cell_type": "code",
   "execution_count": null,
   "metadata": {},
   "outputs": [],
   "source": []
  },
  {
   "cell_type": "code",
   "execution_count": null,
   "metadata": {},
   "outputs": [],
   "source": []
  },
  {
   "cell_type": "code",
   "execution_count": null,
   "metadata": {},
   "outputs": [],
   "source": []
  },
  {
   "cell_type": "code",
   "execution_count": null,
   "metadata": {},
   "outputs": [],
   "source": []
  },
  {
   "cell_type": "code",
   "execution_count": null,
   "metadata": {},
   "outputs": [],
   "source": []
  },
  {
   "cell_type": "code",
   "execution_count": null,
   "metadata": {},
   "outputs": [],
   "source": []
  },
  {
   "cell_type": "code",
   "execution_count": 6,
   "metadata": {},
   "outputs": [
    {
     "data": {
      "text/plain": [
       "0"
      ]
     },
     "execution_count": 6,
     "metadata": {},
     "output_type": "execute_result"
    }
   ],
   "source": [
    "img.min().min()"
   ]
  },
  {
   "cell_type": "code",
   "execution_count": 8,
   "metadata": {},
   "outputs": [
    {
     "data": {
      "text/plain": [
       "2123"
      ]
     },
     "execution_count": 8,
     "metadata": {},
     "output_type": "execute_result"
    }
   ],
   "source": [
    "img.max().max()"
   ]
  },
  {
   "cell_type": "code",
   "execution_count": null,
   "metadata": {},
   "outputs": [],
   "source": []
  },
  {
   "cell_type": "code",
   "execution_count": 3,
   "metadata": {},
   "outputs": [],
   "source": [
    "def profile_line(img):\n",
    "    img[256].iplot(title='Profile Line for a single row') "
   ]
  },
  {
   "cell_type": "code",
   "execution_count": 4,
   "metadata": {},
   "outputs": [
    {
     "data": {
      "text/plain": [
       "<matplotlib.image.AxesImage at 0x141d8658>"
      ]
     },
     "execution_count": 4,
     "metadata": {},
     "output_type": "execute_result"
    },
    {
     "data": {
      "image/png": "[encoded data removed]",
      "text/plain": [
       "<Figure size 432x288 with 1 Axes>"
      ]
     },
     "metadata": {
      "needs_background": "light"
     },
     "output_type": "display_data"
    }
   ],
   "source": [
    "plt.imshow(img, cmap='gray')"
   ]
  },
  {
   "cell_type": "code",
   "execution_count": 5,
   "metadata": {},
   "outputs": [
    {
     "data": {
      "application/vnd.plotly.v1+json": {
       "config": {
        "linkText": "Export to plot.ly",
        "plotlyServerURL": "https://plot.ly",
        "showLink": true
       },
       "data": [
        {
         "line": {
          "color": "rgba(255, 153, 51, 1.0)",
          "dash": "solid",
          "shape": "linear",
          "width": 1.3
         },
         "mode": "lines",
         "name": "256",
         "text": "",
         "type": "scatter",
         "x": [
          0,
          1,
          2,
          3,
          4,
          5,
          6,
          7,
          8,
          9,
          10,
          11,
          12,
          13,
          14,
          15,
          16,
          17,
          18,
          19,
          20,
          21,
          22,
          23,
          24,
          25,
          26,
          27,
          28,
          29,
          30,
          31,
          32,
          33,
          34,
          35,
          36,
          37,
          38,
          39,
          40,
          41,
          42,
          43,
          44,
          45,
          46,
          47,
          48,
          49,
          50,
          51,
          52,
          53,
          54,
          55,
          56,
          57,
          58,
          59,
          60,
          61,
          62,
          63,
          64,
          65,
          66,
          67,
          68,
          69,
          70,
          71,
          72,
          73,
          74,
          75,
          76,
          77,
          78,
          79,
          80,
          81,
          82,
          83,
          84,
          85,
          86,
          87,
          88,
          89,
          90,
          91,
          92,
          93,
          94,
          95,
          96,
          97,
          98,
          99,
          100,
          101,
          102,
          103,
          104,
          105,
          106,
          107,
          108,
          109,
          110,
          111,
          112,
          113,
          114,
          115,
          116,
          117,
          118,
          119,
          120,
          121,
          122,
          123,
          124,
          125,
          126,
          127,
          128,
          129,
          130,
          131,
          132,
          133,
          134,
          135,
          136,
          137,
          138,
          139,
          140,
          141,
          142,
          143,
          144,
          145,
          146,
          147,
          148,
          149,
          150,
          151,
          152,
          153,
          154,
          155,
          156,
          157,
          158,
          159,
          160,
          161,
          162,
          163,
          164,
          165,
          166,
          167,
          168,
          169,
          170,
          171,
          172,
          173,
          174,
          175,
          176,
          177,
          178,
          179,
          180,
          181,
          182,
          183,
          184,
          185,
          186,
          187,
          188,
          189,
          190,
          191,
          192,
          193,
          194,
          195,
          196,
          197,
          198,
          199,
          200,
          201,
          202,
          203,
          204,
          205,
          206,
          207,
          208,
          209,
          210,
          211,
          212,
          213,
          214,
          215,
          216,
          217,
          218,
          219,
          220,
          221,
          222,
          223,
          224,
          225,
          226,
          227,
          228,
          229,
          230,
          231,
          232,
          233,
          234,
          235,
          236,
          237,
          238,
          239,
          240,
          241,
          242,
          243,
          244,
          245,
          246,
          247,
          248,
          249,
          250,
          251,
          252,
          253,
          254,
          255,
          256,
          257,
          258,
          259,
          260,
          261,
          262,
          263,
          264,
          265,
          266,
          267,
          268,
          269,
          270,
          271,
          272,
          273,
          274,
          275,
          276,
          277,
          278,
          279,
          280,
          281,
          282,
          283,
          284,
          285,
          286,
          287,
          288,
          289,
          290,
          291,
          292,
          293,
          294,
          295,
          296,
          297,
          298,
          299,
          300,
          301,
          302,
          303,
          304,
          305,
          306,
          307,
          308,
          309,
          310,
          311,
          312,
          313,
          314,
          315,
          316,
          317,
          318,
          319,
          320,
          321,
          322,
          323,
          324,
          325,
          326,
          327,
          328,
          329,
          330,
          331,
          332,
          333,
          334,
          335,
          336,
          337,
          338,
          339,
          340,
          341,
          342,
          343,
          344,
          345,
          346,
          347,
          348,
          349,
          350,
          351,
          352,
          353,
          354,
          355,
          356,
          357,
          358,
          359,
          360,
          361,
          362,
          363,
          364,
          365,
          366,
          367,
          368,
          369,
          370,
          371,
          372,
          373,
          374,
          375,
          376,
          377,
          378,
          379,
          380,
          381,
          382,
          383,
          384,
          385,
          386,
          387,
          388,
          389,
          390,
          391,
          392,
          393,
          394,
          395,
          396,
          397,
          398,
          399,
          400,
          401,
          402,
          403,
          404,
          405,
          406,
          407,
          408,
          409,
          410,
          411,
          412,
          413,
          414,
          415,
          416,
          417,
          418,
          419,
          420,
          421,
          422,
          423,
          424,
          425,
          426,
          427,
          428,
          429,
          430,
          431,
          432,
          433,
          434,
          435,
          436,
          437,
          438,
          439,
          440,
          441,
          442,
          443,
          444,
          445,
          446,
          447,
          448,
          449,
          450,
          451,
          452,
          453,
          454,
          455,
          456,
          457,
          458,
          459,
          460,
          461,
          462,
          463,
          464,
          465,
          466,
          467,
          468,
          469,
          470,
          471,
          472,
          473,
          474,
          475,
          476,
          477,
          478,
          479,
          480,
          481,
          482,
          483,
          484,
          485,
          486,
          487,
          488,
          489,
          490,
          491,
          492,
          493,
          494,
          495,
          496,
          497,
          498,
          499,
          500,
          501,
          502,
          503,
          504,
          505,
          506,
          507,
          508,
          509,
          510,
          511
         ],
         "y": [
          29700,
          30468,
          28420,
          25604,
          28164,
          34564,
          37892,
          34564,
          27908,
          21508,
          25604,
          47876,
          19461,
          48389,
          54277,
          43269,
          29189,
          16133,
          6661,
          61188,
          50180,
          39428,
          30468,
          23300,
          17668,
          15108,
          18692,
          19716,
          15876,
          14852,
          15876,
          15108,
          11012,
          2308,
          54531,
          40195,
          33795,
          37891,
          45827,
          52227,
          55811,
          56835,
          53251,
          46083,
          42755,
          41987,
          40195,
          37891,
          39939,
          43523,
          38915,
          30211,
          31491,
          44291,
          62211,
          13316,
          26628,
          36100,
          45316,
          55300,
          1029,
          12293,
          21765,
          24837,
          16389,
          61700,
          42756,
          39172,
          51204,
          5125,
          18437,
          19973,
          10501,
          64772,
          61188,
          261,
          6661,
          5893,
          57604,
          43268,
          43780,
          54020,
          65028,
          8453,
          17925,
          21509,
          15109,
          7685,
          11013,
          24069,
          35845,
          39685,
          33797,
          19717,
          7173,
          5,
          62724,
          60676,
          59908,
          57092,
          50692,
          48388,
          54788,
          64260,
          3845,
          4613,
          4357,
          6405,
          10501,
          11525,
          8453,
          773,
          56580,
          48644,
          46852,
          54276,
          5125,
          18437,
          13829,
          60420,
          49412,
          56068,
          4613,
          14341,
          16389,
          13061,
          8453,
          5381,
          2821,
          61956,
          54532,
          56580,
          1797,
          12037,
          17669,
          18949,
          14341,
          5125,
          62468,
          57092,
          55812,
          61700,
          7173,
          14085,
          8197,
          57092,
          45572,
          51204,
          65028,
          5637,
          5637,
          3333,
          63748,
          59652,
          63748,
          3589,
          3077,
          65284,
          63236,
          62212,
          60932,
          59908,
          60676,
          63492,
          3333,
          7941,
          11013,
          9477,
          517,
          49924,
          32772,
          24836,
          23300,
          17668,
          9988,
          10500,
          23556,
          38148,
          40196,
          33284,
          29188,
          28676,
          20484,
          4100,
          64771,
          9988,
          18948,
          17668,
          17924,
          23300,
          26116,
          22788,
          15108,
          7940,
          7172,
          13316,
          26116,
          39684,
          40964,
          30724,
          22020,
          21252,
          21764,
          23556,
          29188,
          31236,
          27140,
          27396,
          35844,
          43524,
          47620,
          53252,
          60676,
          62468,
          58884,
          60676,
          64260,
          58628,
          48900,
          45572,
          48900,
          57092,
          58884,
          48388,
          37124,
          40964,
          59652,
          8453,
          3333,
          51204,
          41732,
          51460,
          3077,
          9733,
          3589,
          64260,
          3845,
          5893,
          63748,
          61188,
          6149,
          13829,
          4613,
          53764,
          45828,
          44804,
          46084,
          48644,
          50948,
          50948,
          48644,
          47876,
          50180,
          50948,
          49924,
          49668,
          52996,
          53764,
          46852,
          39428,
          41732,
          50180,
          56068,
          57092,
          59652,
          4613,
          21253,
          33029,
          29701,
          19205,
          10245,
          6661,
          4613,
          1285,
          65284,
          64772,
          5,
          6661,
          16133,
          16901,
          9221,
          3845,
          2309,
          1285,
          5,
          62724,
          61188,
          61700,
          63236,
          62468,
          61956,
          60932,
          56324,
          51460,
          53508,
          63492,
          7429,
          5637,
          61956,
          57604,
          61700,
          5,
          261,
          64772,
          1541,
          4101,
          4101,
          2565,
          7173,
          17669,
          27141,
          27397,
          20485,
          10245,
          517,
          61444,
          62980,
          61444,
          54532,
          50436,
          54020,
          59140,
          59652,
          57092,
          56836,
          59652,
          63236,
          65284,
          65284,
          2821,
          5637,
          6661,
          8197,
          12805,
          12037,
          5893,
          61700,
          50436,
          38148,
          27908,
          21764,
          17412,
          11268,
          4356,
          2564,
          8964,
          19460,
          19972,
          4356,
          53251,
          50947,
          60419,
          2820,
          1284,
          58371,
          50435,
          46083,
          50947,
          62723,
          5380,
          6660,
          1796,
          60675,
          59651,
          516,
          10500,
          14340,
          7172,
          57347,
          45571,
          48643,
          60163,
          6148,
          11524,
          4868,
          58371,
          53507,
          55555,
          58115,
          59907,
          61443,
          60163,
          51459,
          39683,
          41731,
          57859,
          7428,
          11524,
          14084,
          16132,
          19460,
          22788,
          20740,
          13060,
          9988,
          19204,
          28932,
          31492,
          31236,
          35588,
          46596,
          60676,
          2821,
          1541,
          63748,
          64260,
          1029,
          2053,
          6149,
          10245,
          11269,
          7941,
          6405,
          4357,
          773,
          65028,
          1285,
          62980,
          60420,
          517,
          4357,
          5,
          62980,
          5381,
          13573,
          15109,
          11781,
          5381,
          60676,
          56580,
          61444,
          1541,
          4101,
          6917,
          8197,
          4613,
          1285,
          1541,
          2309,
          1797,
          2565,
          4101,
          5125,
          261,
          58884,
          54276,
          52484,
          49412,
          43780,
          36100,
          32260,
          27652,
          18180,
          12036,
          9732,
          64259,
          40195,
          23555,
          28675,
          39427,
          35075,
          6915,
          40706,
          14082,
          62977,
          56833,
          58881,
          59137,
          2,
          19458,
          43010,
          50178,
          39426,
          27394,
          25090,
          27138,
          28162,
          28162,
          31746,
          45058,
          1283,
          24835,
          42499,
          46595,
          44035,
          33027,
          14083,
          63490,
          58370,
          5379,
          33027,
          61187,
          8708,
          9732,
          5124,
          58883,
          49411,
          48387,
          52739,
          54019,
          51715,
          50179,
          54019,
          65027,
          11524,
          16644,
          16900,
          16900,
          10756,
          260,
          2052,
          12804
         ]
        }
       ],
       "layout": {
        "legend": {
         "bgcolor": "#F5F6F9",
         "font": {
          "color": "#4D5663"
         }
        },
        "paper_bgcolor": "#F5F6F9",
        "plot_bgcolor": "#F5F6F9",
        "template": {
         "data": {
          "bar": [
           {
            "error_x": {
             "color": "#2a3f5f"
            },
            "error_y": {
             "color": "#2a3f5f"
            },
            "marker": {
             "line": {
              "color": "#E5ECF6",
              "width": 0.5
             }
            },
            "type": "bar"
           }
          ],
          "barpolar": [
           {
            "marker": {
             "line": {
              "color": "#E5ECF6",
              "width": 0.5
             }
            },
            "type": "barpolar"
           }
          ],
          "carpet": [
           {
            "aaxis": {
             "endlinecolor": "#2a3f5f",
             "gridcolor": "white",
             "linecolor": "white",
             "minorgridcolor": "white",
             "startlinecolor": "#2a3f5f"
            },
            "baxis": {
             "endlinecolor": "#2a3f5f",
             "gridcolor": "white",
             "linecolor": "white",
             "minorgridcolor": "white",
             "startlinecolor": "#2a3f5f"
            },
            "type": "carpet"
           }
          ],
          "choropleth": [
           {
            "colorbar": {
             "outlinewidth": 0,
             "ticks": ""
            },
            "type": "choropleth"
           }
          ],
          "contour": [
           {
            "colorbar": {
             "outlinewidth": 0,
             "ticks": ""
            },
            "colorscale": [
             [
              0,
              "#0d0887"
             ],
             [
              0.1111111111111111,
              "#46039f"
             ],
             [
              0.2222222222222222,
              "#7201a8"
             ],
             [
              0.3333333333333333,
              "#9c179e"
             ],
             [
              0.4444444444444444,
              "#bd3786"
             ],
             [
              0.5555555555555556,
              "#d8576b"
             ],
             [
              0.6666666666666666,
              "#ed7953"
             ],
             [
              0.7777777777777778,
              "#fb9f3a"
             ],
             [
              0.8888888888888888,
              "#fdca26"
             ],
             [
              1,
              "#f0f921"
             ]
            ],
            "type": "contour"
           }
          ],
          "contourcarpet": [
           {
            "colorbar": {
             "outlinewidth": 0,
             "ticks": ""
            },
            "type": "contourcarpet"
           }
          ],
          "heatmap": [
           {
            "colorbar": {
             "outlinewidth": 0,
             "ticks": ""
            },
            "colorscale": [
             [
              0,
              "#0d0887"
             ],
             [
              0.1111111111111111,
              "#46039f"
             ],
             [
              0.2222222222222222,
              "#7201a8"
             ],
             [
              0.3333333333333333,
              "#9c179e"
             ],
             [
              0.4444444444444444,
              "#bd3786"
             ],
             [
              0.5555555555555556,
              "#d8576b"
             ],
             [
              0.6666666666666666,
              "#ed7953"
             ],
             [
              0.7777777777777778,
              "#fb9f3a"
             ],
             [
              0.8888888888888888,
              "#fdca26"
             ],
             [
              1,
              "#f0f921"
             ]
            ],
            "type": "heatmap"
           }
          ],
          "heatmapgl": [
           {
            "colorbar": {
             "outlinewidth": 0,
             "ticks": ""
            },
            "colorscale": [
             [
              0,
              "#0d0887"
             ],
             [
              0.1111111111111111,
              "#46039f"
             ],
             [
              0.2222222222222222,
              "#7201a8"
             ],
             [
              0.3333333333333333,
              "#9c179e"
             ],
             [
              0.4444444444444444,
              "#bd3786"
             ],
             [
              0.5555555555555556,
              "#d8576b"
             ],
             [
              0.6666666666666666,
              "#ed7953"
             ],
             [
              0.7777777777777778,
              "#fb9f3a"
             ],
             [
              0.8888888888888888,
              "#fdca26"
             ],
             [
              1,
              "#f0f921"
             ]
            ],
            "type": "heatmapgl"
           }
          ],
          "histogram": [
           {
            "marker": {
             "colorbar": {
              "outlinewidth": 0,
              "ticks": ""
             }
            },
            "type": "histogram"
           }
          ],
          "histogram2d": [
           {
            "colorbar": {
             "outlinewidth": 0,
             "ticks": ""
            },
            "colorscale": [
             [
              0,
              "#0d0887"
             ],
             [
              0.1111111111111111,
              "#46039f"
             ],
             [
              0.2222222222222222,
              "#7201a8"
             ],
             [
              0.3333333333333333,
              "#9c179e"
             ],
             [
              0.4444444444444444,
              "#bd3786"
             ],
             [
              0.5555555555555556,
              "#d8576b"
             ],
             [
              0.6666666666666666,
              "#ed7953"
             ],
             [
              0.7777777777777778,
              "#fb9f3a"
             ],
             [
              0.8888888888888888,
              "#fdca26"
             ],
             [
              1,
              "#f0f921"
             ]
            ],
            "type": "histogram2d"
           }
          ],
          "histogram2dcontour": [
           {
            "colorbar": {
             "outlinewidth": 0,
             "ticks": ""
            },
            "colorscale": [
             [
              0,
              "#0d0887"
             ],
             [
              0.1111111111111111,
              "#46039f"
             ],
             [
              0.2222222222222222,
              "#7201a8"
             ],
             [
              0.3333333333333333,
              "#9c179e"
             ],
             [
              0.4444444444444444,
              "#bd3786"
             ],
             [
              0.5555555555555556,
              "#d8576b"
             ],
             [
              0.6666666666666666,
              "#ed7953"
             ],
             [
              0.7777777777777778,
              "#fb9f3a"
             ],
             [
              0.8888888888888888,
              "#fdca26"
             ],
             [
              1,
              "#f0f921"
             ]
            ],
            "type": "histogram2dcontour"
           }
          ],
          "mesh3d": [
           {
            "colorbar": {
             "outlinewidth": 0,
             "ticks": ""
            },
            "type": "mesh3d"
           }
          ],
          "parcoords": [
           {
            "line": {
             "colorbar": {
              "outlinewidth": 0,
              "ticks": ""
             }
            },
            "type": "parcoords"
           }
          ],
          "pie": [
           {
            "automargin": true,
            "type": "pie"
           }
          ],
          "scatter": [
           {
            "marker": {
             "colorbar": {
              "outlinewidth": 0,
              "ticks": ""
             }
            },
            "type": "scatter"
           }
          ],
          "scatter3d": [
           {
            "line": {
             "colorbar": {
              "outlinewidth": 0,
              "ticks": ""
             }
            },
            "marker": {
             "colorbar": {
              "outlinewidth": 0,
              "ticks": ""
             }
            },
            "type": "scatter3d"
           }
          ],
          "scattercarpet": [
           {
            "marker": {
             "colorbar": {
              "outlinewidth": 0,
              "ticks": ""
             }
            },
            "type": "scattercarpet"
           }
          ],
          "scattergeo": [
           {
            "marker": {
             "colorbar": {
              "outlinewidth": 0,
              "ticks": ""
             }
            },
            "type": "scattergeo"
           }
          ],
          "scattergl": [
           {
            "marker": {
             "colorbar": {
              "outlinewidth": 0,
              "ticks": ""
             }
            },
            "type": "scattergl"
           }
          ],
          "scattermapbox": [
           {
            "marker": {
             "colorbar": {
              "outlinewidth": 0,
              "ticks": ""
             }
            },
            "type": "scattermapbox"
           }
          ],
          "scatterpolar": [
           {
            "marker": {
             "colorbar": {
              "outlinewidth": 0,
              "ticks": ""
             }
            },
            "type": "scatterpolar"
           }
          ],
          "scatterpolargl": [
           {
            "marker": {
             "colorbar": {
              "outlinewidth": 0,
              "ticks": ""
             }
            },
            "type": "scatterpolargl"
           }
          ],
          "scatterternary": [
           {
            "marker": {
             "colorbar": {
              "outlinewidth": 0,
              "ticks": ""
             }
            },
            "type": "scatterternary"
           }
          ],
          "surface": [
           {
            "colorbar": {
             "outlinewidth": 0,
             "ticks": ""
            },
            "colorscale": [
             [
              0,
              "#0d0887"
             ],
             [
              0.1111111111111111,
              "#46039f"
             ],
             [
              0.2222222222222222,
              "#7201a8"
             ],
             [
              0.3333333333333333,
              "#9c179e"
             ],
             [
              0.4444444444444444,
              "#bd3786"
             ],
             [
              0.5555555555555556,
              "#d8576b"
             ],
             [
              0.6666666666666666,
              "#ed7953"
             ],
             [
              0.7777777777777778,
              "#fb9f3a"
             ],
             [
              0.8888888888888888,
              "#fdca26"
             ],
             [
              1,
              "#f0f921"
             ]
            ],
            "type": "surface"
           }
          ],
          "table": [
           {
            "cells": {
             "fill": {
              "color": "#EBF0F8"
             },
             "line": {
              "color": "white"
             }
            },
            "header": {
             "fill": {
              "color": "#C8D4E3"
             },
             "line": {
              "color": "white"
             }
            },
            "type": "table"
           }
          ]
         },
         "layout": {
          "annotationdefaults": {
           "arrowcolor": "#2a3f5f",
           "arrowhead": 0,
           "arrowwidth": 1
          },
          "coloraxis": {
           "colorbar": {
            "outlinewidth": 0,
            "ticks": ""
           }
          },
          "colorscale": {
           "diverging": [
            [
             0,
             "#8e0152"
            ],
            [
             0.1,
             "#c51b7d"
            ],
            [
             0.2,
             "#de77ae"
            ],
            [
             0.3,
             "#f1b6da"
            ],
            [
             0.4,
             "#fde0ef"
            ],
            [
             0.5,
             "#f7f7f7"
            ],
            [
             0.6,
             "#e6f5d0"
            ],
            [
             0.7,
             "#b8e186"
            ],
            [
             0.8,
             "#7fbc41"
            ],
            [
             0.9,
             "#4d9221"
            ],
            [
             1,
             "#276419"
            ]
           ],
           "sequential": [
            [
             0,
             "#0d0887"
            ],
            [
             0.1111111111111111,
             "#46039f"
            ],
            [
             0.2222222222222222,
             "#7201a8"
            ],
            [
             0.3333333333333333,
             "#9c179e"
            ],
            [
             0.4444444444444444,
             "#bd3786"
            ],
            [
             0.5555555555555556,
             "#d8576b"
            ],
            [
             0.6666666666666666,
             "#ed7953"
            ],
            [
             0.7777777777777778,
             "#fb9f3a"
            ],
            [
             0.8888888888888888,
             "#fdca26"
            ],
            [
             1,
             "#f0f921"
            ]
           ],
           "sequentialminus": [
            [
             0,
             "#0d0887"
            ],
            [
             0.1111111111111111,
             "#46039f"
            ],
            [
             0.2222222222222222,
             "#7201a8"
            ],
            [
             0.3333333333333333,
             "#9c179e"
            ],
            [
             0.4444444444444444,
             "#bd3786"
            ],
            [
             0.5555555555555556,
             "#d8576b"
            ],
            [
             0.6666666666666666,
             "#ed7953"
            ],
            [
             0.7777777777777778,
             "#fb9f3a"
            ],
            [
             0.8888888888888888,
             "#fdca26"
            ],
            [
             1,
             "#f0f921"
            ]
           ]
          },
          "colorway": [
           "#636efa",
           "#EF553B",
           "#00cc96",
           "#ab63fa",
           "#FFA15A",
           "#19d3f3",
           "#FF6692",
           "#B6E880",
           "#FF97FF",
           "#FECB52"
          ],
          "font": {
           "color": "#2a3f5f"
          },
          "geo": {
           "bgcolor": "white",
           "lakecolor": "white",
           "landcolor": "#E5ECF6",
           "showlakes": true,
           "showland": true,
           "subunitcolor": "white"
          },
          "hoverlabel": {
           "align": "left"
          },
          "hovermode": "closest",
          "mapbox": {
           "style": "light"
          },
          "paper_bgcolor": "white",
          "plot_bgcolor": "#E5ECF6",
          "polar": {
           "angularaxis": {
            "gridcolor": "white",
            "linecolor": "white",
            "ticks": ""
           },
           "bgcolor": "#E5ECF6",
           "radialaxis": {
            "gridcolor": "white",
            "linecolor": "white",
            "ticks": ""
           }
          },
          "scene": {
           "xaxis": {
            "backgroundcolor": "#E5ECF6",
            "gridcolor": "white",
            "gridwidth": 2,
            "linecolor": "white",
            "showbackground": true,
            "ticks": "",
            "zerolinecolor": "white"
           },
           "yaxis": {
            "backgroundcolor": "#E5ECF6",
            "gridcolor": "white",
            "gridwidth": 2,
            "linecolor": "white",
            "showbackground": true,
            "ticks": "",
            "zerolinecolor": "white"
           },
           "zaxis": {
            "backgroundcolor": "#E5ECF6",
            "gridcolor": "white",
            "gridwidth": 2,
            "linecolor": "white",
            "showbackground": true,
            "ticks": "",
            "zerolinecolor": "white"
           }
          },
          "shapedefaults": {
           "line": {
            "color": "#2a3f5f"
           }
          },
          "ternary": {
           "aaxis": {
            "gridcolor": "white",
            "linecolor": "white",
            "ticks": ""
           },
           "baxis": {
            "gridcolor": "white",
            "linecolor": "white",
            "ticks": ""
           },
           "bgcolor": "#E5ECF6",
           "caxis": {
            "gridcolor": "white",
            "linecolor": "white",
            "ticks": ""
           }
          },
          "title": {
           "x": 0.05
          },
          "xaxis": {
           "automargin": true,
           "gridcolor": "white",
           "linecolor": "white",
           "ticks": "",
           "title": {
            "standoff": 15
           },
           "zerolinecolor": "white",
           "zerolinewidth": 2
          },
          "yaxis": {
           "automargin": true,
           "gridcolor": "white",
           "linecolor": "white",
           "ticks": "",
           "title": {
            "standoff": 15
           },
           "zerolinecolor": "white",
           "zerolinewidth": 2
          }
         }
        },
        "title": {
         "font": {
          "color": "#4D5663"
         },
         "text": "Profile Line for a single row"
        },
        "xaxis": {
         "gridcolor": "#E1E5ED",
         "showgrid": true,
         "tickfont": {
          "color": "#4D5663"
         },
         "title": {
          "font": {
           "color": "#4D5663"
          },
          "text": ""
         },
         "zerolinecolor": "#E1E5ED"
        },
        "yaxis": {
         "gridcolor": "#E1E5ED",
         "showgrid": true,
         "tickfont": {
          "color": "#4D5663"
         },
         "title": {
          "font": {
           "color": "#4D5663"
          },
          "text": ""
         },
         "zerolinecolor": "#E1E5ED"
        }
       }
      },
      "text/html": [
       "<div>\n",
       "        \n",
       "        \n",
       "            <div id=\"4443864d-20e8-4409-b9c9-8eafaf0f6fc8\" class=\"plotly-graph-div\" style=\"height:525px; width:100%;\"></div>\n",
       "            <script type=\"text/javascript\">\n",
       "                require([\"plotly\"], function(Plotly) {\n",
       "                    window.PLOTLYENV=window.PLOTLYENV || {};\n",
       "                    window.PLOTLYENV.BASE_URL='https://plot.ly';\n",
       "                    \n",
       "                if (document.getElementById(\"4443864d-20e8-4409-b9c9-8eafaf0f6fc8\")) {\n",
       "                    Plotly.newPlot(\n",
       "                        '4443864d-20e8-4409-b9c9-8eafaf0f6fc8',\n",
       "                        [{\"line\": {\"color\": \"rgba(255, 153, 51, 1.0)\", \"dash\": \"solid\", \"shape\": \"linear\", \"width\": 1.3}, \"mode\": \"lines\", \"name\": \"256\", \"text\": \"\", \"type\": \"scatter\", \"x\": [0, 1, 2, 3, 4, 5, 6, 7, 8, 9, 10, 11, 12, 13, 14, 15, 16, 17, 18, 19, 20, 21, 22, 23, 24, 25, 26, 27, 28, 29, 30, 31, 32, 33, 34, 35, 36, 37, 38, 39, 40, 41, 42, 43, 44, 45, 46, 47, 48, 49, 50, 51, 52, 53, 54, 55, 56, 57, 58, 59, 60, 61, 62, 63, 64, 65, 66, 67, 68, 69, 70, 71, 72, 73, 74, 75, 76, 77, 78, 79, 80, 81, 82, 83, 84, 85, 86, 87, 88, 89, 90, 91, 92, 93, 94, 95, 96, 97, 98, 99, 100, 101, 102, 103, 104, 105, 106, 107, 108, 109, 110, 111, 112, 113, 114, 115, 116, 117, 118, 119, 120, 121, 122, 123, 124, 125, 126, 127, 128, 129, 130, 131, 132, 133, 134, 135, 136, 137, 138, 139, 140, 141, 142, 143, 144, 145, 146, 147, 148, 149, 150, 151, 152, 153, 154, 155, 156, 157, 158, 159, 160, 161, 162, 163, 164, 165, 166, 167, 168, 169, 170, 171, 172, 173, 174, 175, 176, 177, 178, 179, 180, 181, 182, 183, 184, 185, 186, 187, 188, 189, 190, 191, 192, 193, 194, 195, 196, 197, 198, 199, 200, 201, 202, 203, 204, 205, 206, 207, 208, 209, 210, 211, 212, 213, 214, 215, 216, 217, 218, 219, 220, 221, 222, 223, 224, 225, 226, 227, 228, 229, 230, 231, 232, 233, 234, 235, 236, 237, 238, 239, 240, 241, 242, 243, 244, 245, 246, 247, 248, 249, 250, 251, 252, 253, 254, 255, 256, 257, 258, 259, 260, 261, 262, 263, 264, 265, 266, 267, 268, 269, 270, 271, 272, 273, 274, 275, 276, 277, 278, 279, 280, 281, 282, 283, 284, 285, 286, 287, 288, 289, 290, 291, 292, 293, 294, 295, 296, 297, 298, 299, 300, 301, 302, 303, 304, 305, 306, 307, 308, 309, 310, 311, 312, 313, 314, 315, 316, 317, 318, 319, 320, 321, 322, 323, 324, 325, 326, 327, 328, 329, 330, 331, 332, 333, 334, 335, 336, 337, 338, 339, 340, 341, 342, 343, 344, 345, 346, 347, 348, 349, 350, 351, 352, 353, 354, 355, 356, 357, 358, 359, 360, 361, 362, 363, 364, 365, 366, 367, 368, 369, 370, 371, 372, 373, 374, 375, 376, 377, 378, 379, 380, 381, 382, 383, 384, 385, 386, 387, 388, 389, 390, 391, 392, 393, 394, 395, 396, 397, 398, 399, 400, 401, 402, 403, 404, 405, 406, 407, 408, 409, 410, 411, 412, 413, 414, 415, 416, 417, 418, 419, 420, 421, 422, 423, 424, 425, 426, 427, 428, 429, 430, 431, 432, 433, 434, 435, 436, 437, 438, 439, 440, 441, 442, 443, 444, 445, 446, 447, 448, 449, 450, 451, 452, 453, 454, 455, 456, 457, 458, 459, 460, 461, 462, 463, 464, 465, 466, 467, 468, 469, 470, 471, 472, 473, 474, 475, 476, 477, 478, 479, 480, 481, 482, 483, 484, 485, 486, 487, 488, 489, 490, 491, 492, 493, 494, 495, 496, 497, 498, 499, 500, 501, 502, 503, 504, 505, 506, 507, 508, 509, 510, 511], \"y\": [29700, 30468, 28420, 25604, 28164, 34564, 37892, 34564, 27908, 21508, 25604, 47876, 19461, 48389, 54277, 43269, 29189, 16133, 6661, 61188, 50180, 39428, 30468, 23300, 17668, 15108, 18692, 19716, 15876, 14852, 15876, 15108, 11012, 2308, 54531, 40195, 33795, 37891, 45827, 52227, 55811, 56835, 53251, 46083, 42755, 41987, 40195, 37891, 39939, 43523, 38915, 30211, 31491, 44291, 62211, 13316, 26628, 36100, 45316, 55300, 1029, 12293, 21765, 24837, 16389, 61700, 42756, 39172, 51204, 5125, 18437, 19973, 10501, 64772, 61188, 261, 6661, 5893, 57604, 43268, 43780, 54020, 65028, 8453, 17925, 21509, 15109, 7685, 11013, 24069, 35845, 39685, 33797, 19717, 7173, 5, 62724, 60676, 59908, 57092, 50692, 48388, 54788, 64260, 3845, 4613, 4357, 6405, 10501, 11525, 8453, 773, 56580, 48644, 46852, 54276, 5125, 18437, 13829, 60420, 49412, 56068, 4613, 14341, 16389, 13061, 8453, 5381, 2821, 61956, 54532, 56580, 1797, 12037, 17669, 18949, 14341, 5125, 62468, 57092, 55812, 61700, 7173, 14085, 8197, 57092, 45572, 51204, 65028, 5637, 5637, 3333, 63748, 59652, 63748, 3589, 3077, 65284, 63236, 62212, 60932, 59908, 60676, 63492, 3333, 7941, 11013, 9477, 517, 49924, 32772, 24836, 23300, 17668, 9988, 10500, 23556, 38148, 40196, 33284, 29188, 28676, 20484, 4100, 64771, 9988, 18948, 17668, 17924, 23300, 26116, 22788, 15108, 7940, 7172, 13316, 26116, 39684, 40964, 30724, 22020, 21252, 21764, 23556, 29188, 31236, 27140, 27396, 35844, 43524, 47620, 53252, 60676, 62468, 58884, 60676, 64260, 58628, 48900, 45572, 48900, 57092, 58884, 48388, 37124, 40964, 59652, 8453, 3333, 51204, 41732, 51460, 3077, 9733, 3589, 64260, 3845, 5893, 63748, 61188, 6149, 13829, 4613, 53764, 45828, 44804, 46084, 48644, 50948, 50948, 48644, 47876, 50180, 50948, 49924, 49668, 52996, 53764, 46852, 39428, 41732, 50180, 56068, 57092, 59652, 4613, 21253, 33029, 29701, 19205, 10245, 6661, 4613, 1285, 65284, 64772, 5, 6661, 16133, 16901, 9221, 3845, 2309, 1285, 5, 62724, 61188, 61700, 63236, 62468, 61956, 60932, 56324, 51460, 53508, 63492, 7429, 5637, 61956, 57604, 61700, 5, 261, 64772, 1541, 4101, 4101, 2565, 7173, 17669, 27141, 27397, 20485, 10245, 517, 61444, 62980, 61444, 54532, 50436, 54020, 59140, 59652, 57092, 56836, 59652, 63236, 65284, 65284, 2821, 5637, 6661, 8197, 12805, 12037, 5893, 61700, 50436, 38148, 27908, 21764, 17412, 11268, 4356, 2564, 8964, 19460, 19972, 4356, 53251, 50947, 60419, 2820, 1284, 58371, 50435, 46083, 50947, 62723, 5380, 6660, 1796, 60675, 59651, 516, 10500, 14340, 7172, 57347, 45571, 48643, 60163, 6148, 11524, 4868, 58371, 53507, 55555, 58115, 59907, 61443, 60163, 51459, 39683, 41731, 57859, 7428, 11524, 14084, 16132, 19460, 22788, 20740, 13060, 9988, 19204, 28932, 31492, 31236, 35588, 46596, 60676, 2821, 1541, 63748, 64260, 1029, 2053, 6149, 10245, 11269, 7941, 6405, 4357, 773, 65028, 1285, 62980, 60420, 517, 4357, 5, 62980, 5381, 13573, 15109, 11781, 5381, 60676, 56580, 61444, 1541, 4101, 6917, 8197, 4613, 1285, 1541, 2309, 1797, 2565, 4101, 5125, 261, 58884, 54276, 52484, 49412, 43780, 36100, 32260, 27652, 18180, 12036, 9732, 64259, 40195, 23555, 28675, 39427, 35075, 6915, 40706, 14082, 62977, 56833, 58881, 59137, 2, 19458, 43010, 50178, 39426, 27394, 25090, 27138, 28162, 28162, 31746, 45058, 1283, 24835, 42499, 46595, 44035, 33027, 14083, 63490, 58370, 5379, 33027, 61187, 8708, 9732, 5124, 58883, 49411, 48387, 52739, 54019, 51715, 50179, 54019, 65027, 11524, 16644, 16900, 16900, 10756, 260, 2052, 12804]}],\n",
       "                        {\"legend\": {\"bgcolor\": \"#F5F6F9\", \"font\": {\"color\": \"#4D5663\"}}, \"paper_bgcolor\": \"#F5F6F9\", \"plot_bgcolor\": \"#F5F6F9\", \"template\": {\"data\": {\"bar\": [{\"error_x\": {\"color\": \"#2a3f5f\"}, \"error_y\": {\"color\": \"#2a3f5f\"}, \"marker\": {\"line\": {\"color\": \"#E5ECF6\", \"width\": 0.5}}, \"type\": \"bar\"}], \"barpolar\": [{\"marker\": {\"line\": {\"color\": \"#E5ECF6\", \"width\": 0.5}}, \"type\": \"barpolar\"}], \"carpet\": [{\"aaxis\": {\"endlinecolor\": \"#2a3f5f\", \"gridcolor\": \"white\", \"linecolor\": \"white\", \"minorgridcolor\": \"white\", \"startlinecolor\": \"#2a3f5f\"}, \"baxis\": {\"endlinecolor\": \"#2a3f5f\", \"gridcolor\": \"white\", \"linecolor\": \"white\", \"minorgridcolor\": \"white\", \"startlinecolor\": \"#2a3f5f\"}, \"type\": \"carpet\"}], \"choropleth\": [{\"colorbar\": {\"outlinewidth\": 0, \"ticks\": \"\"}, \"type\": \"choropleth\"}], \"contour\": [{\"colorbar\": {\"outlinewidth\": 0, \"ticks\": \"\"}, \"colorscale\": [[0.0, \"#0d0887\"], [0.1111111111111111, \"#46039f\"], [0.2222222222222222, \"#7201a8\"], [0.3333333333333333, \"#9c179e\"], [0.4444444444444444, \"#bd3786\"], [0.5555555555555556, \"#d8576b\"], [0.6666666666666666, \"#ed7953\"], [0.7777777777777778, \"#fb9f3a\"], [0.8888888888888888, \"#fdca26\"], [1.0, \"#f0f921\"]], \"type\": \"contour\"}], \"contourcarpet\": [{\"colorbar\": {\"outlinewidth\": 0, \"ticks\": \"\"}, \"type\": \"contourcarpet\"}], \"heatmap\": [{\"colorbar\": {\"outlinewidth\": 0, \"ticks\": \"\"}, \"colorscale\": [[0.0, \"#0d0887\"], [0.1111111111111111, \"#46039f\"], [0.2222222222222222, \"#7201a8\"], [0.3333333333333333, \"#9c179e\"], [0.4444444444444444, \"#bd3786\"], [0.5555555555555556, \"#d8576b\"], [0.6666666666666666, \"#ed7953\"], [0.7777777777777778, \"#fb9f3a\"], [0.8888888888888888, \"#fdca26\"], [1.0, \"#f0f921\"]], \"type\": \"heatmap\"}], \"heatmapgl\": [{\"colorbar\": {\"outlinewidth\": 0, \"ticks\": \"\"}, \"colorscale\": [[0.0, \"#0d0887\"], [0.1111111111111111, \"#46039f\"], [0.2222222222222222, \"#7201a8\"], [0.3333333333333333, \"#9c179e\"], [0.4444444444444444, \"#bd3786\"], [0.5555555555555556, \"#d8576b\"], [0.6666666666666666, \"#ed7953\"], [0.7777777777777778, \"#fb9f3a\"], [0.8888888888888888, \"#fdca26\"], [1.0, \"#f0f921\"]], \"type\": \"heatmapgl\"}], \"histogram\": [{\"marker\": {\"colorbar\": {\"outlinewidth\": 0, \"ticks\": \"\"}}, \"type\": \"histogram\"}], \"histogram2d\": [{\"colorbar\": {\"outlinewidth\": 0, \"ticks\": \"\"}, \"colorscale\": [[0.0, \"#0d0887\"], [0.1111111111111111, \"#46039f\"], [0.2222222222222222, \"#7201a8\"], [0.3333333333333333, \"#9c179e\"], [0.4444444444444444, \"#bd3786\"], [0.5555555555555556, \"#d8576b\"], [0.6666666666666666, \"#ed7953\"], [0.7777777777777778, \"#fb9f3a\"], [0.8888888888888888, \"#fdca26\"], [1.0, \"#f0f921\"]], \"type\": \"histogram2d\"}], \"histogram2dcontour\": [{\"colorbar\": {\"outlinewidth\": 0, \"ticks\": \"\"}, \"colorscale\": [[0.0, \"#0d0887\"], [0.1111111111111111, \"#46039f\"], [0.2222222222222222, \"#7201a8\"], [0.3333333333333333, \"#9c179e\"], [0.4444444444444444, \"#bd3786\"], [0.5555555555555556, \"#d8576b\"], [0.6666666666666666, \"#ed7953\"], [0.7777777777777778, \"#fb9f3a\"], [0.8888888888888888, \"#fdca26\"], [1.0, \"#f0f921\"]], \"type\": \"histogram2dcontour\"}], \"mesh3d\": [{\"colorbar\": {\"outlinewidth\": 0, \"ticks\": \"\"}, \"type\": \"mesh3d\"}], \"parcoords\": [{\"line\": {\"colorbar\": {\"outlinewidth\": 0, \"ticks\": \"\"}}, \"type\": \"parcoords\"}], \"pie\": [{\"automargin\": true, \"type\": \"pie\"}], \"scatter\": [{\"marker\": {\"colorbar\": {\"outlinewidth\": 0, \"ticks\": \"\"}}, \"type\": \"scatter\"}], \"scatter3d\": [{\"line\": {\"colorbar\": {\"outlinewidth\": 0, \"ticks\": \"\"}}, \"marker\": {\"colorbar\": {\"outlinewidth\": 0, \"ticks\": \"\"}}, \"type\": \"scatter3d\"}], \"scattercarpet\": [{\"marker\": {\"colorbar\": {\"outlinewidth\": 0, \"ticks\": \"\"}}, \"type\": \"scattercarpet\"}], \"scattergeo\": [{\"marker\": {\"colorbar\": {\"outlinewidth\": 0, \"ticks\": \"\"}}, \"type\": \"scattergeo\"}], \"scattergl\": [{\"marker\": {\"colorbar\": {\"outlinewidth\": 0, \"ticks\": \"\"}}, \"type\": \"scattergl\"}], \"scattermapbox\": [{\"marker\": {\"colorbar\": {\"outlinewidth\": 0, \"ticks\": \"\"}}, \"type\": \"scattermapbox\"}], \"scatterpolar\": [{\"marker\": {\"colorbar\": {\"outlinewidth\": 0, \"ticks\": \"\"}}, \"type\": \"scatterpolar\"}], \"scatterpolargl\": [{\"marker\": {\"colorbar\": {\"outlinewidth\": 0, \"ticks\": \"\"}}, \"type\": \"scatterpolargl\"}], \"scatterternary\": [{\"marker\": {\"colorbar\": {\"outlinewidth\": 0, \"ticks\": \"\"}}, \"type\": \"scatterternary\"}], \"surface\": [{\"colorbar\": {\"outlinewidth\": 0, \"ticks\": \"\"}, \"colorscale\": [[0.0, \"#0d0887\"], [0.1111111111111111, \"#46039f\"], [0.2222222222222222, \"#7201a8\"], [0.3333333333333333, \"#9c179e\"], [0.4444444444444444, \"#bd3786\"], [0.5555555555555556, \"#d8576b\"], [0.6666666666666666, \"#ed7953\"], [0.7777777777777778, \"#fb9f3a\"], [0.8888888888888888, \"#fdca26\"], [1.0, \"#f0f921\"]], \"type\": \"surface\"}], \"table\": [{\"cells\": {\"fill\": {\"color\": \"#EBF0F8\"}, \"line\": {\"color\": \"white\"}}, \"header\": {\"fill\": {\"color\": \"#C8D4E3\"}, \"line\": {\"color\": \"white\"}}, \"type\": \"table\"}]}, \"layout\": {\"annotationdefaults\": {\"arrowcolor\": \"#2a3f5f\", \"arrowhead\": 0, \"arrowwidth\": 1}, \"coloraxis\": {\"colorbar\": {\"outlinewidth\": 0, \"ticks\": \"\"}}, \"colorscale\": {\"diverging\": [[0, \"#8e0152\"], [0.1, \"#c51b7d\"], [0.2, \"#de77ae\"], [0.3, \"#f1b6da\"], [0.4, \"#fde0ef\"], [0.5, \"#f7f7f7\"], [0.6, \"#e6f5d0\"], [0.7, \"#b8e186\"], [0.8, \"#7fbc41\"], [0.9, \"#4d9221\"], [1, \"#276419\"]], \"sequential\": [[0.0, \"#0d0887\"], [0.1111111111111111, \"#46039f\"], [0.2222222222222222, \"#7201a8\"], [0.3333333333333333, \"#9c179e\"], [0.4444444444444444, \"#bd3786\"], [0.5555555555555556, \"#d8576b\"], [0.6666666666666666, \"#ed7953\"], [0.7777777777777778, \"#fb9f3a\"], [0.8888888888888888, \"#fdca26\"], [1.0, \"#f0f921\"]], \"sequentialminus\": [[0.0, \"#0d0887\"], [0.1111111111111111, \"#46039f\"], [0.2222222222222222, \"#7201a8\"], [0.3333333333333333, \"#9c179e\"], [0.4444444444444444, \"#bd3786\"], [0.5555555555555556, \"#d8576b\"], [0.6666666666666666, \"#ed7953\"], [0.7777777777777778, \"#fb9f3a\"], [0.8888888888888888, \"#fdca26\"], [1.0, \"#f0f921\"]]}, \"colorway\": [\"#636efa\", \"#EF553B\", \"#00cc96\", \"#ab63fa\", \"#FFA15A\", \"#19d3f3\", \"#FF6692\", \"#B6E880\", \"#FF97FF\", \"#FECB52\"], \"font\": {\"color\": \"#2a3f5f\"}, \"geo\": {\"bgcolor\": \"white\", \"lakecolor\": \"white\", \"landcolor\": \"#E5ECF6\", \"showlakes\": true, \"showland\": true, \"subunitcolor\": \"white\"}, \"hoverlabel\": {\"align\": \"left\"}, \"hovermode\": \"closest\", \"mapbox\": {\"style\": \"light\"}, \"paper_bgcolor\": \"white\", \"plot_bgcolor\": \"#E5ECF6\", \"polar\": {\"angularaxis\": {\"gridcolor\": \"white\", \"linecolor\": \"white\", \"ticks\": \"\"}, \"bgcolor\": \"#E5ECF6\", \"radialaxis\": {\"gridcolor\": \"white\", \"linecolor\": \"white\", \"ticks\": \"\"}}, \"scene\": {\"xaxis\": {\"backgroundcolor\": \"#E5ECF6\", \"gridcolor\": \"white\", \"gridwidth\": 2, \"linecolor\": \"white\", \"showbackground\": true, \"ticks\": \"\", \"zerolinecolor\": \"white\"}, \"yaxis\": {\"backgroundcolor\": \"#E5ECF6\", \"gridcolor\": \"white\", \"gridwidth\": 2, \"linecolor\": \"white\", \"showbackground\": true, \"ticks\": \"\", \"zerolinecolor\": \"white\"}, \"zaxis\": {\"backgroundcolor\": \"#E5ECF6\", \"gridcolor\": \"white\", \"gridwidth\": 2, \"linecolor\": \"white\", \"showbackground\": true, \"ticks\": \"\", \"zerolinecolor\": \"white\"}}, \"shapedefaults\": {\"line\": {\"color\": \"#2a3f5f\"}}, \"ternary\": {\"aaxis\": {\"gridcolor\": \"white\", \"linecolor\": \"white\", \"ticks\": \"\"}, \"baxis\": {\"gridcolor\": \"white\", \"linecolor\": \"white\", \"ticks\": \"\"}, \"bgcolor\": \"#E5ECF6\", \"caxis\": {\"gridcolor\": \"white\", \"linecolor\": \"white\", \"ticks\": \"\"}}, \"title\": {\"x\": 0.05}, \"xaxis\": {\"automargin\": true, \"gridcolor\": \"white\", \"linecolor\": \"white\", \"ticks\": \"\", \"title\": {\"standoff\": 15}, \"zerolinecolor\": \"white\", \"zerolinewidth\": 2}, \"yaxis\": {\"automargin\": true, \"gridcolor\": \"white\", \"linecolor\": \"white\", \"ticks\": \"\", \"title\": {\"standoff\": 15}, \"zerolinecolor\": \"white\", \"zerolinewidth\": 2}}}, \"title\": {\"font\": {\"color\": \"#4D5663\"}, \"text\": \"Profile Line for a single row\"}, \"xaxis\": {\"gridcolor\": \"#E1E5ED\", \"showgrid\": true, \"tickfont\": {\"color\": \"#4D5663\"}, \"title\": {\"font\": {\"color\": \"#4D5663\"}, \"text\": \"\"}, \"zerolinecolor\": \"#E1E5ED\"}, \"yaxis\": {\"gridcolor\": \"#E1E5ED\", \"showgrid\": true, \"tickfont\": {\"color\": \"#4D5663\"}, \"title\": {\"font\": {\"color\": \"#4D5663\"}, \"text\": \"\"}, \"zerolinecolor\": \"#E1E5ED\"}},\n",
       "                        {\"showLink\": true, \"linkText\": \"Export to plot.ly\", \"plotlyServerURL\": \"https://plot.ly\", \"responsive\": true}\n",
       "                    ).then(function(){\n",
       "                            \n",
       "var gd = document.getElementById('4443864d-20e8-4409-b9c9-8eafaf0f6fc8');\n",
       "var x = new MutationObserver(function (mutations, observer) {{\n",
       "        var display = window.getComputedStyle(gd).display;\n",
       "        if (!display || display === 'none') {{\n",
       "            console.log([gd, 'removed!']);\n",
       "            Plotly.purge(gd);\n",
       "            observer.disconnect();\n",
       "        }}\n",
       "}});\n",
       "\n",
       "// Listen for the removal of the full notebook cells\n",
       "var notebookContainer = gd.closest('#notebook-container');\n",
       "if (notebookContainer) {{\n",
       "    x.observe(notebookContainer, {childList: true});\n",
       "}}\n",
       "\n",
       "// Listen for the clearing of the current output cell\n",
       "var outputEl = gd.closest('.output');\n",
       "if (outputEl) {{\n",
       "    x.observe(outputEl, {childList: true});\n",
       "}}\n",
       "\n",
       "                        })\n",
       "                };\n",
       "                });\n",
       "            </script>\n",
       "        </div>"
      ]
     },
     "metadata": {},
     "output_type": "display_data"
    }
   ],
   "source": [
    "profile_line(img)"
   ]
  },
  {
   "cell_type": "code",
   "execution_count": 6,
   "metadata": {},
   "outputs": [
    {
     "data": {
      "text/plain": [
       "33000.57555389404"
      ]
     },
     "execution_count": 6,
     "metadata": {},
     "output_type": "execute_result"
    }
   ],
   "source": [
    "np.mean(np.mean(img))"
   ]
  },
  {
   "cell_type": "code",
   "execution_count": 7,
   "metadata": {},
   "outputs": [
    {
     "data": {
      "text/html": [
       "<div>\n",
       "<style scoped>\n",
       "    .dataframe tbody tr th:only-of-type {\n",
       "        vertical-align: middle;\n",
       "    }\n",
       "\n",
       "    .dataframe tbody tr th {\n",
       "        vertical-align: top;\n",
       "    }\n",
       "\n",
       "    .dataframe thead th {\n",
       "        text-align: right;\n",
       "    }\n",
       "</style>\n",
       "<table border=\"1\" class=\"dataframe\">\n",
       "  <thead>\n",
       "    <tr style=\"text-align: right;\">\n",
       "      <th></th>\n",
       "      <th>0</th>\n",
       "      <th>1</th>\n",
       "      <th>2</th>\n",
       "      <th>3</th>\n",
       "      <th>4</th>\n",
       "      <th>5</th>\n",
       "      <th>6</th>\n",
       "      <th>7</th>\n",
       "      <th>8</th>\n",
       "      <th>9</th>\n",
       "      <th>...</th>\n",
       "      <th>502</th>\n",
       "      <th>503</th>\n",
       "      <th>504</th>\n",
       "      <th>505</th>\n",
       "      <th>506</th>\n",
       "      <th>507</th>\n",
       "      <th>508</th>\n",
       "      <th>509</th>\n",
       "      <th>510</th>\n",
       "      <th>511</th>\n",
       "    </tr>\n",
       "  </thead>\n",
       "  <tbody>\n",
       "    <tr>\n",
       "      <th>0</th>\n",
       "      <td>11524</td>\n",
       "      <td>15620</td>\n",
       "      <td>20228</td>\n",
       "      <td>21252</td>\n",
       "      <td>18180</td>\n",
       "      <td>15108</td>\n",
       "      <td>13060</td>\n",
       "      <td>12548</td>\n",
       "      <td>14340</td>\n",
       "      <td>16388</td>\n",
       "      <td>...</td>\n",
       "      <td>8960</td>\n",
       "      <td>8192</td>\n",
       "      <td>5120</td>\n",
       "      <td>3584</td>\n",
       "      <td>6912</td>\n",
       "      <td>13312</td>\n",
       "      <td>11776</td>\n",
       "      <td>4352</td>\n",
       "      <td>2048</td>\n",
       "      <td>5120</td>\n",
       "    </tr>\n",
       "    <tr>\n",
       "      <th>1</th>\n",
       "      <td>5892</td>\n",
       "      <td>5892</td>\n",
       "      <td>9732</td>\n",
       "      <td>12292</td>\n",
       "      <td>11524</td>\n",
       "      <td>10756</td>\n",
       "      <td>8964</td>\n",
       "      <td>5124</td>\n",
       "      <td>4100</td>\n",
       "      <td>6404</td>\n",
       "      <td>...</td>\n",
       "      <td>10240</td>\n",
       "      <td>9216</td>\n",
       "      <td>7168</td>\n",
       "      <td>6400</td>\n",
       "      <td>8448</td>\n",
       "      <td>8448</td>\n",
       "      <td>2816</td>\n",
       "      <td>0</td>\n",
       "      <td>1024</td>\n",
       "      <td>10496</td>\n",
       "    </tr>\n",
       "  </tbody>\n",
       "</table>\n",
       "<p>2 rows × 512 columns</p>\n",
       "</div>"
      ],
      "text/plain": [
       "     0      1      2      3      4      5      6      7      8      9    ...  \\\n",
       "0  11524  15620  20228  21252  18180  15108  13060  12548  14340  16388  ...   \n",
       "1   5892   5892   9732  12292  11524  10756   8964   5124   4100   6404  ...   \n",
       "\n",
       "     502   503   504   505   506    507    508   509   510    511  \n",
       "0   8960  8192  5120  3584  6912  13312  11776  4352  2048   5120  \n",
       "1  10240  9216  7168  6400  8448   8448   2816     0  1024  10496  \n",
       "\n",
       "[2 rows x 512 columns]"
      ]
     },
     "execution_count": 7,
     "metadata": {},
     "output_type": "execute_result"
    }
   ],
   "source": [
    "img.head(2)"
   ]
  },
  {
   "cell_type": "code",
   "execution_count": 8,
   "metadata": {},
   "outputs": [],
   "source": [
    "def mean_value(img):\n",
    "    img_mean = 0\n",
    "    for i in range (np.shape(img)[0]):\n",
    "        for j in range (np.shape(img)[1]):\n",
    "            img_mean = img_mean + img[j].loc[i]   \n",
    "    return img_mean/(np.shape(img)[0]*np.shape(img)[1])\n",
    "    "
   ]
  },
  {
   "cell_type": "code",
   "execution_count": 9,
   "metadata": {},
   "outputs": [
    {
     "name": "stderr",
     "output_type": "stream",
     "text": [
      "<ipython-input-8-5fbf27a94def>:5: RuntimeWarning:\n",
      "\n",
      "overflow encountered in long_scalars\n",
      "\n"
     ]
    },
    {
     "data": {
      "text/plain": [
       "232.57555389404297"
      ]
     },
     "execution_count": 9,
     "metadata": {},
     "output_type": "execute_result"
    }
   ],
   "source": [
    "img_mean = mean_value(img)\n",
    "img_mean"
   ]
  },
  {
   "cell_type": "code",
   "execution_count": 10,
   "metadata": {},
   "outputs": [],
   "source": [
    "def variance_value(img , img_mean):\n",
    "    img_variance = 0\n",
    "    for i in range(np.shape(img)[0]):\n",
    "        for j in range(np.shape(img)[1]):\n",
    "            img_variance = img_variance + pow((img[j].loc[i] - img_mean),2)\n",
    "    \n",
    "    return img_variance/(np.shape(img)[0]*np.shape(img)[1])\n",
    "    "
   ]
  },
  {
   "cell_type": "code",
   "execution_count": 11,
   "metadata": {},
   "outputs": [
    {
     "data": {
      "text/plain": [
       "1470917351.2618"
      ]
     },
     "execution_count": 11,
     "metadata": {},
     "output_type": "execute_result"
    }
   ],
   "source": [
    "img_variance = variance_value(img , img_mean)\n",
    "img_variance"
   ]
  },
  {
   "cell_type": "code",
   "execution_count": 12,
   "metadata": {},
   "outputs": [
    {
     "data": {
      "text/plain": [
       "65286"
      ]
     },
     "execution_count": 12,
     "metadata": {},
     "output_type": "execute_result"
    }
   ],
   "source": [
    "max(img.max())"
   ]
  },
  {
   "cell_type": "code",
   "execution_count": 13,
   "metadata": {},
   "outputs": [
    {
     "data": {
      "text/plain": [
       "65286"
      ]
     },
     "execution_count": 13,
     "metadata": {},
     "output_type": "execute_result"
    }
   ],
   "source": [
    "img.max().max()"
   ]
  },
  {
   "cell_type": "code",
   "execution_count": 14,
   "metadata": {},
   "outputs": [
    {
     "data": {
      "text/plain": [
       "33000.57555389404"
      ]
     },
     "execution_count": 14,
     "metadata": {},
     "output_type": "execute_result"
    }
   ],
   "source": [
    "img.mean().mean()"
   ]
  },
  {
   "cell_type": "code",
   "execution_count": 15,
   "metadata": {},
   "outputs": [
    {
     "data": {
      "text/plain": [
       "3634855495821307.0"
      ]
     },
     "execution_count": 15,
     "metadata": {},
     "output_type": "execute_result"
    }
   ],
   "source": [
    "img.var().var()"
   ]
  },
  {
   "cell_type": "code",
   "execution_count": null,
   "metadata": {},
   "outputs": [],
   "source": []
  },
  {
   "cell_type": "code",
   "execution_count": null,
   "metadata": {},
   "outputs": [],
   "source": [
    "def linear_transf(img):\n",
    "    linear_transf = pd.DataFrame(0, index=range(np.shape(img)[0]), columns=range(np.shape(img)[1]))\n",
    "    min_data = img.min().min()\n",
    "    max_data = img.max().max()\n",
    "    for i in range(np.shape(img)[0]):\n",
    "        for j in range(np.shape(img)[1]):\n",
    "            linear_transf[j].iloc[i] = ((img[j].iloc[i] - min_data )/( max_data - in_data))*255\n",
    "            \n",
    "    return linear_transf    "
   ]
  },
  {
   "cell_type": "code",
   "execution_count": null,
   "metadata": {},
   "outputs": [],
   "source": [
    "linear_transf = linear_transf(img)\n",
    "    "
   ]
  },
  {
   "cell_type": "code",
   "execution_count": null,
   "metadata": {},
   "outputs": [],
   "source": [
    "linear_transf.head()"
   ]
  },
  {
   "cell_type": "code",
   "execution_count": null,
   "metadata": {},
   "outputs": [],
   "source": []
  },
  {
   "cell_type": "code",
   "execution_count": 21,
   "metadata": {},
   "outputs": [
    {
     "data": {
      "text/plain": [
       "array([[1, 1, 1, 1, 1, 1, 1, 1, 1, 1, 1],\n",
       "       [1, 1, 1, 1, 1, 1, 1, 1, 1, 1, 1],\n",
       "       [1, 1, 1, 1, 1, 1, 1, 1, 1, 1, 1],\n",
       "       [1, 1, 1, 1, 1, 1, 1, 1, 1, 1, 1],\n",
       "       [1, 1, 1, 1, 1, 1, 1, 1, 1, 1, 1],\n",
       "       [1, 1, 1, 1, 1, 1, 1, 1, 1, 1, 1],\n",
       "       [1, 1, 1, 1, 1, 1, 1, 1, 1, 1, 1],\n",
       "       [1, 1, 1, 1, 1, 1, 1, 1, 1, 1, 1],\n",
       "       [1, 1, 1, 1, 1, 1, 1, 1, 1, 1, 1],\n",
       "       [1, 1, 1, 1, 1, 1, 1, 1, 1, 1, 1],\n",
       "       [1, 1, 1, 1, 1, 1, 1, 1, 1, 1, 1]])"
      ]
     },
     "execution_count": 21,
     "metadata": {},
     "output_type": "execute_result"
    }
   ],
   "source": [
    "filter = np.ones((11,11), dtype = 'int')\n",
    "filter"
   ]
  },
  {
   "cell_type": "code",
   "execution_count": null,
   "metadata": {},
   "outputs": [],
   "source": []
  },
  {
   "cell_type": "code",
   "execution_count": 22,
   "metadata": {},
   "outputs": [],
   "source": [
    "#boxcar = np.zeros((np.shape(img)[0]-2,np.shape(img)[1]-2),dtype = 'int')"
   ]
  },
  {
   "cell_type": "code",
   "execution_count": 23,
   "metadata": {},
   "outputs": [
    {
     "data": {
      "text/plain": [
       "(510, 510)"
      ]
     },
     "execution_count": 23,
     "metadata": {},
     "output_type": "execute_result"
    }
   ],
   "source": [
    "boxcar.shape"
   ]
  },
  {
   "cell_type": "code",
   "execution_count": 25,
   "metadata": {},
   "outputs": [
    {
     "data": {
      "text/plain": [
       "512"
      ]
     },
     "execution_count": 25,
     "metadata": {},
     "output_type": "execute_result"
    }
   ],
   "source": [
    "img_dimensions = [np.shape(img)[0], np.shape(img)[1]]"
   ]
  },
  {
   "cell_type": "code",
   "execution_count": 26,
   "metadata": {},
   "outputs": [
    {
     "data": {
      "text/plain": [
       "(502, 502)"
      ]
     },
     "execution_count": 26,
     "metadata": {},
     "output_type": "execute_result"
    }
   ],
   "source": [
    "filter = np.ones((11,11), dtype = 'int')\n",
    "boxcar = np.zeros(((img_dimensions[0] - np.shape(filter)[0] + 1),(img_dimensions[1] - np.shape(filter)[0] + 1)),dtype = 'int')\n",
    "np.shape(boxcar)\n"
   ]
  },
  {
   "cell_type": "code",
   "execution_count": 28,
   "metadata": {},
   "outputs": [
    {
     "data": {
      "text/plain": [
       "256"
      ]
     },
     "execution_count": 28,
     "metadata": {},
     "output_type": "execute_result"
    }
   ],
   "source": [
    "square_data = [1,1,1,1,1,1,1,1,1,1,1]\n",
    "int(512 / 2)"
   ]
  },
  {
   "cell_type": "code",
   "execution_count": null,
   "metadata": {},
   "outputs": [],
   "source": []
  },
  {
   "cell_type": "code",
   "execution_count": null,
   "metadata": {},
   "outputs": [],
   "source": []
  },
  {
   "cell_type": "code",
   "execution_count": 2,
   "metadata": {},
   "outputs": [
    {
     "name": "stdout",
     "output_type": "stream",
     "text": [
      "-------------------------------------\n",
      "[[2 2 3 2 2]\n",
      " [2 4 5 4 2]\n",
      " [3 5 7 5 3]\n",
      " [2 4 5 4 2]\n",
      " [2 2 3 2 2]]\n",
      "-------------------------------------\n",
      "[[1 1 1 1 1]\n",
      " [1 1 7 1 1]\n",
      " [1 7 7 7 1]\n",
      " [1 1 7 1 1]\n",
      " [1 1 1 1 1]]\n"
     ]
    }
   ],
   "source": [
    "# mat = np.array([[1,2,3,4],[1,2,3,4],[1,2,3,4],[1,2,3,4]])\n",
    "# filter = np.array([[1,1],[1,1]])\n",
    "# box = np.zeros((3,3) , dtype = 'int' )\n",
    "mat = np.array([[1,1,1,1,1,1,1],[1,1,1,1,1,1,1],[1,1,7,7,7,1,1],[1,1,7,7,7,1,1],[1,1,7,7,7,1,1],[1,1,1,1,1,1,1],\n",
    "                [1,1,1,1,1,1,1]])\n",
    "filter = np.array([[1,1,1],[1,1,1],[1,1,1]])\n",
    "box = np.zeros((5,5),dtype = 'int')\n",
    "median = np.zeros((5,5),dtype = 'int')\n",
    "mean_filter = []\n",
    "for i in range((np.shape(mat)[0] - np.shape(filter)[0]) + 1) :\n",
    "    for j in range((np.shape(mat)[1] - np.shape(filter)[1]) + 1) :\n",
    "        for a in range(np.shape(filter)[0]) :\n",
    "            for b in range(np.shape(filter)[1]) :\n",
    "                box[i][j] = box[i][j] + (mat[i + a][j + b] * filter[a][b])\n",
    "                mean_filter.append(mat[i + a][j + b] * filter[a][b])\n",
    "        # box[i][j] = int(box[i][j]/(np.shape(filter)[0]*np.shape(filter)[1]))\n",
    "        box[i][j] = round(box[i][j]/(np.shape(filter)[0]*np.shape(filter)[1]))\n",
    "        mean_filter.sort()\n",
    "        median[i][j] = mean_filter[4]\n",
    "        mean_filter = []\n",
    "print(\"-------------------------------------\")\n",
    "print(box)\n",
    "print(\"-------------------------------------\")\n",
    "print(median)"
   ]
  },
  {
   "cell_type": "code",
   "execution_count": null,
   "metadata": {},
   "outputs": [],
   "source": []
  }
 ],
 "metadata": {
  "kernelspec": {
   "display_name": "Python 3",
   "language": "python",
   "name": "python3"
  },
  "language_info": {
   "codemirror_mode": {
    "name": "ipython",
    "version": 3
   },
   "file_extension": ".py",
   "mimetype": "text/x-python",
   "name": "python",
   "nbconvert_exporter": "python",
   "pygments_lexer": "ipython3",
   "version": "3.8.0"
  },
  "toc": {
   "base_numbering": 1,
   "nav_menu": {},
   "number_sections": true,
   "sideBar": true,
   "skip_h1_title": false,
   "title_cell": "Table of Contents",
   "title_sidebar": "Contents",
   "toc_cell": false,
   "toc_position": {},
   "toc_section_display": true,
   "toc_window_display": false
  }
 },
 "nbformat": 4,
 "nbformat_minor": 4
}
